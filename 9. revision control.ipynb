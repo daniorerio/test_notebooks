{
 "metadata": {
  "name": "",
  "signature": "sha256:f7645c522955ea7dd353d2b9c9d077e2e1965fbed7aff2407dd2058ea4f45542"
 },
 "nbformat": 3,
 "nbformat_minor": 0,
 "worksheets": [
  {
   "cells": [
    {
     "cell_type": "heading",
     "level": 1,
     "metadata": {},
     "source": [
      "Revision Control using Git and GitHub"
     ]
    },
    {
     "cell_type": "markdown",
     "metadata": {},
     "source": [
      "One of the big challenges with writing code is keeping track of revisions.   [Git](http://git-scm.com) is a popular revision control system that can be used with the remote repository [GitHub](https://github.com).\n",
      "\n",
      "You will want to sign up for a GitHub account.  Then you should follow the instructions for creating an [SSH key](https://help.github.com/articles/generating-ssh-keys/)."
     ]
    },
    {
     "cell_type": "heading",
     "level": 3,
     "metadata": {},
     "source": [
      "Git Setup"
     ]
    },
    {
     "cell_type": "markdown",
     "metadata": {},
     "source": [
      "First run the following commands after changing the parameters to your own name and email and removing the #."
     ]
    },
    {
     "cell_type": "code",
     "collapsed": false,
     "input": [
      "#!git config --global user.name 'user name'\n",
      "#!git config --global user.email 'user email'\n",
      "!git config --global push.default simple"
     ],
     "language": "python",
     "metadata": {},
     "outputs": []
    },
    {
     "cell_type": "markdown",
     "metadata": {},
     "source": [
      "For some additional functions install the hub package using homebrew.  If you do not have homebrew installed, follow instructions at the [homebrew](http://brew.sh) site."
     ]
    },
    {
     "cell_type": "code",
     "collapsed": false,
     "input": [
      "%%bash\n",
      "brew install hub\n",
      "hub --noop"
     ],
     "language": "python",
     "metadata": {},
     "outputs": [
      {
       "output_type": "stream",
       "stream": "stdout",
       "text": [
        "usage: git [--version] [--exec-path[=<path>]] [--html-path] [--man-path] [--info-path]\n",
        "           [-p|--paginate|--no-pager] [--no-replace-objects] [--bare]\n",
        "           [--git-dir=<path>] [--work-tree=<path>] [--namespace=<name>]\n",
        "           [-c name=value] [--help]\n",
        "           <command> [<args>]\n",
        "\n",
        "Basic Commands:\n",
        "   init       Create an empty git repository or reinitialize an existing one\n",
        "   add        Add new or modified files to the staging area\n",
        "   rm         Remove files from the working directory and staging area\n",
        "   mv         Move or rename a file, a directory, or a symlink\n",
        "   status     Show the status of the working directory and staging area\n",
        "   commit     Record changes to the repository\n",
        "\n",
        "History Commands:\n",
        "   log        Show the commit history log\n",
        "   diff       Show changes between commits, commit and working tree, etc\n",
        "   show       Show information about commits, tags or files\n",
        "\n",
        "Branching Commands:\n",
        "   branch     List, create, or delete branches\n",
        "   checkout   Switch the active branch to another branch\n",
        "   merge      Join two or more development histories (branches) together\n",
        "   tag        Create, list, delete, sign or verify a tag object\n",
        "\n",
        "Remote Commands:\n",
        "   clone      Clone a remote repository into a new directory\n",
        "   fetch      Download data, tags and branches from a remote repository\n",
        "   pull       Fetch from and merge with another repository or a local branch\n",
        "   push       Upload data, tags and branches to a remote repository\n",
        "   remote     View and manage a set of remote repositories\n",
        "\n",
        "Advanced Commands:\n",
        "   reset      Reset your staging area or working directory to another point\n",
        "   rebase     Re-apply a series of patches in one branch onto another\n",
        "   bisect     Find by binary search the change that introduced a bug\n",
        "   grep       Print files with lines matching a pattern in your codebase\n",
        "\n",
        "GitHub Commands:\n",
        "   pull-request   Open a pull request on GitHub\n",
        "   fork           Make a fork of a remote repository on GitHub and add as remote\n",
        "   create         Create this repository on GitHub and add GitHub as origin\n",
        "   browse         Open a GitHub page in the default browser\n",
        "   compare        Open a compare page on GitHub\n",
        "   release        List or create releases (beta)\n",
        "   issue          List or create issues (beta)\n",
        "   ci-status      Show the CI status of a commit\n",
        "\n",
        "See 'git help <command>' for more information on a specific command.\n"
       ]
      },
      {
       "output_type": "stream",
       "stream": "stderr",
       "text": [
        "Warning: hub-2.2.1 already installed\n"
       ]
      }
     ],
     "prompt_number": 27
    },
    {
     "cell_type": "heading",
     "level": 3,
     "metadata": {},
     "source": [
      "Using Git"
     ]
    },
    {
     "cell_type": "markdown",
     "metadata": {},
     "source": [
      "Git creates a record of changes to files.\n",
      "\n",
      "Source code or digital content is stored in a repository. Repositories are made in the working directory (folder) where the files are located.  They can also be linked remotely to online repositories like GitHub.\n",
      "\n",
      "* The repository contains the latest version of all files, as well as the complete history of all changes to the files since they were added to the repository. \n",
      "\n",
      "* Git tracks the changes in files.  Files are tracked by being **added** to the Git staging area. Changes are monitored and can be re-modified.\n",
      "\n",
      "* When a task has been completed, the changes to the local files are **commited** (saved to the repository).  Commits are essentially unmodifiable records, like a snapshot of files at a specific time.\n",
      "\n",
      "* The **diff** command shows the differences between modified files and versions that have been added or committed.\n",
      "\n",
      "We wil see later how file versions can be accessed, and how different changes can be merged."
     ]
    },
    {
     "cell_type": "markdown",
     "metadata": {},
     "source": [
      "First use shell commands to create a new directory and change the location to that directory."
     ]
    },
    {
     "cell_type": "code",
     "collapsed": false,
     "input": [
      "#cd ~ changes to home directory\n",
      "%cd ~\n",
      "#mkdir makes a new directory\n",
      "%mkdir git_demo\n",
      "#then change to the new directory\n",
      "%cd git_demo"
     ],
     "language": "python",
     "metadata": {},
     "outputs": [
      {
       "output_type": "stream",
       "stream": "stdout",
       "text": [
        "/Users/draible1\n",
        "mkdir: git_demo: File exists\r\n"
       ]
      },
      {
       "output_type": "stream",
       "stream": "stdout",
       "text": [
        "/Users/draible1/git_demo\n"
       ]
      }
     ],
     "prompt_number": 4
    },
    {
     "cell_type": "markdown",
     "metadata": {},
     "source": [
      "Next we will initialize a Git repository with the **init** command."
     ]
    },
    {
     "cell_type": "code",
     "collapsed": false,
     "input": [
      "#The exclamation point is used to call some shell commands.\n",
      "!git init "
     ],
     "language": "python",
     "metadata": {},
     "outputs": [
      {
       "output_type": "stream",
       "stream": "stdout",
       "text": [
        "Initialized empty Git repository in /Users/draible1/git_demo/.git/\r\n"
       ]
      }
     ],
     "prompt_number": 34
    },
    {
     "cell_type": "markdown",
     "metadata": {},
     "source": [
      "The status command returns changes in file status."
     ]
    },
    {
     "cell_type": "code",
     "collapsed": false,
     "input": [
      "!git status"
     ],
     "language": "python",
     "metadata": {},
     "outputs": [
      {
       "output_type": "stream",
       "stream": "stdout",
       "text": [
        "On branch master\r\n",
        "\r\n",
        "Initial commit\r\n",
        "\r\n",
        "nothing to commit (create/copy files and use \"git add\" to track)\r\n"
       ]
      }
     ],
     "prompt_number": 35
    },
    {
     "cell_type": "markdown",
     "metadata": {},
     "source": [
      "We will use the IPython magic command %%writefile to generate a new file."
     ]
    },
    {
     "cell_type": "code",
     "collapsed": false,
     "input": [
      "%%writefile README\n",
      "\n",
      "A file with information about the gitdemo repository."
     ],
     "language": "python",
     "metadata": {},
     "outputs": [
      {
       "output_type": "stream",
       "stream": "stdout",
       "text": [
        "Overwriting README\n"
       ]
      }
     ],
     "prompt_number": 42
    },
    {
     "cell_type": "code",
     "collapsed": false,
     "input": [
      "!git status"
     ],
     "language": "python",
     "metadata": {},
     "outputs": [
      {
       "output_type": "stream",
       "stream": "stdout",
       "text": [
        "On branch master\r\n",
        "\r\n",
        "Initial commit\r\n",
        "\r\n",
        "Untracked files:\r\n",
        "  (use \"git add <file>...\" to include in what will be committed)\r\n",
        "\r\n",
        "\t\u001b[31mREADME\u001b[m\r\n",
        "\r\n",
        "nothing added to commit but untracked files present (use \"git add\" to track)\r\n"
       ]
      }
     ],
     "prompt_number": 41
    },
    {
     "cell_type": "code",
     "collapsed": false,
     "input": [
      "!git add README\n",
      "!git status"
     ],
     "language": "python",
     "metadata": {},
     "outputs": [
      {
       "output_type": "stream",
       "stream": "stdout",
       "text": [
        "On branch master\r\n",
        "\r\n",
        "Initial commit\r\n",
        "\r\n",
        "Changes to be committed:\r\n",
        "  (use \"git rm --cached <file>...\" to unstage)\r\n",
        "\r\n",
        "\t\u001b[32mnew file:   README\u001b[m\r\n",
        "\r\n"
       ]
      }
     ],
     "prompt_number": 43
    },
    {
     "cell_type": "code",
     "collapsed": false,
     "input": [
      "%%writefile -a README \n",
      "\n",
      "A new line."
     ],
     "language": "python",
     "metadata": {},
     "outputs": [
      {
       "output_type": "stream",
       "stream": "stdout",
       "text": [
        "Appending to README\n"
       ]
      }
     ],
     "prompt_number": 44
    },
    {
     "cell_type": "code",
     "collapsed": false,
     "input": [
      "!git status"
     ],
     "language": "python",
     "metadata": {},
     "outputs": [
      {
       "output_type": "stream",
       "stream": "stdout",
       "text": [
        "On branch master\r\n",
        "\r\n",
        "Initial commit\r\n",
        "\r\n",
        "Changes to be committed:\r\n",
        "  (use \"git rm --cached <file>...\" to unstage)\r\n",
        "\r\n",
        "\t\u001b[32mnew file:   README\u001b[m\r\n",
        "\r\n",
        "Changes not staged for commit:\r\n",
        "  (use \"git add <file>...\" to update what will be committed)\r\n",
        "  (use \"git checkout -- <file>...\" to discard changes in working directory)\r\n",
        "\r\n",
        "\t\u001b[31mmodified:   README\u001b[m\r\n",
        "\r\n"
       ]
      }
     ],
     "prompt_number": 45
    },
    {
     "cell_type": "markdown",
     "metadata": {},
     "source": [
      "The diff command shows changes between unstaged and staged (added) files."
     ]
    },
    {
     "cell_type": "code",
     "collapsed": false,
     "input": [
      "!git diff"
     ],
     "language": "python",
     "metadata": {},
     "outputs": [
      {
       "output_type": "stream",
       "stream": "stdout",
       "text": [
        "\u001b[1mdiff --git a/README b/README\u001b[m\r\n",
        "\u001b[1mindex d1ad2cc..c9186b9 100644\u001b[m\r\n",
        "\u001b[1m--- a/README\u001b[m\r\n",
        "\u001b[1m+++ b/README\u001b[m\r\n",
        "\u001b[36m@@ -1,2 +1,3 @@\u001b[m\r\n",
        " \u001b[m\r\n",
        "\u001b[31m-A file with information about the gitdemo repository.\u001b[m\r\n",
        "\\ No newline at end of file\u001b[m\r\n",
        "\u001b[32m+\u001b[m\u001b[32mA file with information about the gitdemo repository.\u001b[m\r\n",
        "\u001b[32m+\u001b[m\u001b[32mA new line.\u001b[m\r\n",
        "\\ No newline at end of file\u001b[m\r\n"
       ]
      }
     ],
     "prompt_number": 47
    },
    {
     "cell_type": "markdown",
     "metadata": {},
     "source": [
      "The commit command records the changed file in the local repository.  When using IPython notebook, you need to use the -m \"message\" syntax to add a note about changes for the commit command to complete."
     ]
    },
    {
     "cell_type": "code",
     "collapsed": false,
     "input": [
      "!git commit -m \"New README file\" README"
     ],
     "language": "python",
     "metadata": {},
     "outputs": [
      {
       "output_type": "stream",
       "stream": "stdout",
       "text": [
        "[master (root-commit) 6d39f4a] New README file\r\n",
        " 1 file changed, 3 insertions(+)\r\n",
        " create mode 100644 README\r\n"
       ]
      }
     ],
     "prompt_number": 49
    },
    {
     "cell_type": "code",
     "collapsed": false,
     "input": [
      "%%file README\n",
      "\n",
      "A file with information about the gitdemo repository.\n",
      "\n",
      "README files usually contains installation instructions, and information about how to get started using the software (for example)."
     ],
     "language": "python",
     "metadata": {},
     "outputs": [
      {
       "output_type": "stream",
       "stream": "stdout",
       "text": [
        "Overwriting README\n"
       ]
      }
     ],
     "prompt_number": 53
    },
    {
     "cell_type": "code",
     "collapsed": false,
     "input": [
      "!git status"
     ],
     "language": "python",
     "metadata": {},
     "outputs": [
      {
       "output_type": "stream",
       "stream": "stdout",
       "text": [
        "On branch master\r\n",
        "Changes not staged for commit:\r\n",
        "  (use \"git add <file>...\" to update what will be committed)\r\n",
        "  (use \"git checkout -- <file>...\" to discard changes in working directory)\r\n",
        "\r\n",
        "\t\u001b[31mmodified:   README\u001b[m\r\n",
        "\r\n",
        "no changes added to commit (use \"git add\" and/or \"git commit -a\")\r\n"
       ]
      }
     ],
     "prompt_number": 58
    },
    {
     "cell_type": "code",
     "collapsed": false,
     "input": [
      "!git diff"
     ],
     "language": "python",
     "metadata": {},
     "outputs": [
      {
       "output_type": "stream",
       "stream": "stdout",
       "text": [
        "\u001b[1mdiff --git a/README b/README\u001b[m\r\n",
        "\u001b[1mindex c9186b9..d3951c6 100644\u001b[m\r\n",
        "\u001b[1m--- a/README\u001b[m\r\n",
        "\u001b[1m+++ b/README\u001b[m\r\n",
        "\u001b[36m@@ -1,3 +1,4 @@\u001b[m\r\n",
        " \u001b[m\r\n",
        " A file with information about the gitdemo repository.\u001b[m\r\n",
        "\u001b[31m-A new line.\u001b[m\r\n",
        "\\ No newline at end of file\u001b[m\r\n",
        "\u001b[32m+\u001b[m\r\n",
        "\u001b[32m+\u001b[m\u001b[32mREADME files usually contains installation instructions, and information about how to get started using the software (for example).\u001b[m\r\n",
        "\\ No newline at end of file\u001b[m\r\n"
       ]
      }
     ],
     "prompt_number": 55
    },
    {
     "cell_type": "markdown",
     "metadata": {},
     "source": [
      "By using the -a option you can skip the staging step before committing a file."
     ]
    },
    {
     "cell_type": "code",
     "collapsed": false,
     "input": [
      "!git commit -a -m 'added additional description'"
     ],
     "language": "python",
     "metadata": {},
     "outputs": [
      {
       "output_type": "stream",
       "stream": "stdout",
       "text": [
        "[master a3fc5eb] added additional description\r\n",
        " 1 file changed, 2 insertions(+), 1 deletion(-)\r\n"
       ]
      }
     ],
     "prompt_number": 59
    },
    {
     "cell_type": "heading",
     "level": 3,
     "metadata": {},
     "source": [
      "Examining different commits"
     ]
    },
    {
     "cell_type": "markdown",
     "metadata": {},
     "source": [
      "The history of commits can be obtained using the **log** command."
     ]
    },
    {
     "cell_type": "code",
     "collapsed": false,
     "input": [
      "!git log"
     ],
     "language": "python",
     "metadata": {},
     "outputs": [
      {
       "output_type": "stream",
       "stream": "stdout",
       "text": [
        "\u001b[33mcommit a3fc5eb54ceac565e9849a3f969b37f8a5f44234\u001b[m\r\n",
        "Author: David Raible <draible@uw.edu>\r\n",
        "Date:   Tue Sep 1 15:47:23 2015 -0700\r\n",
        "\r\n",
        "    added additional description\r\n",
        "\r\n",
        "\u001b[33mcommit 6d39f4ab57a5dc3ce8370f7102389dd8d9be9db0\u001b[m\r\n",
        "Author: David Raible <draible@uw.edu>\r\n",
        "Date:   Tue Sep 1 15:39:39 2015 -0700\r\n",
        "\r\n",
        "    New README file\r\n"
       ]
      }
     ],
     "prompt_number": 5
    },
    {
     "cell_type": "markdown",
     "metadata": {},
     "source": [
      "The **log** command has several options for better formatting.  There are also options for filtering log entries.  See [git log](http://git-scm.com/book/en/v2/Git-Basics-Viewing-the-Commit-History) for more details."
     ]
    },
    {
     "cell_type": "code",
     "collapsed": false,
     "input": [
      "!git log --pretty=format:\"%h %ad | %s%d [%an]\" --graph --date=short"
     ],
     "language": "python",
     "metadata": {},
     "outputs": [
      {
       "output_type": "stream",
       "stream": "stdout",
       "text": [
        "* a3fc5eb 2015-09-01 | added additional description (HEAD, master) [David Raible]\r\n",
        "* 6d39f4a 2015-09-01 | New README file [David Raible]"
       ]
      }
     ],
     "prompt_number": 62
    },
    {
     "cell_type": "markdown",
     "metadata": {},
     "source": [
      "The **show** command will reveal the changes that were made by the designated commit, using an abbreviated hash (the number indicating the commit).  "
     ]
    },
    {
     "cell_type": "code",
     "collapsed": false,
     "input": [
      "!git show 6d39f4ab"
     ],
     "language": "python",
     "metadata": {},
     "outputs": [
      {
       "output_type": "stream",
       "stream": "stdout",
       "text": [
        "\u001b[33mcommit 6d39f4ab57a5dc3ce8370f7102389dd8d9be9db0\u001b[m\r\n",
        "Author: David Raible <draible@uw.edu>\r\n",
        "Date:   Tue Sep 1 15:39:39 2015 -0700\r\n",
        "\r\n",
        "    New README file\r\n",
        "\r\n",
        "\u001b[1mdiff --git a/README b/README\u001b[m\r\n",
        "\u001b[1mnew file mode 100644\u001b[m\r\n",
        "\u001b[1mindex 0000000..c9186b9\u001b[m\r\n",
        "\u001b[1m--- /dev/null\u001b[m\r\n",
        "\u001b[1m+++ b/README\u001b[m\r\n",
        "\u001b[36m@@ -0,0 +1,3 @@\u001b[m\r\n",
        "\u001b[32m+\u001b[m\r\n",
        "\u001b[32m+\u001b[m\u001b[32mA file with information about the gitdemo repository.\u001b[m\r\n",
        "\u001b[32m+\u001b[m\u001b[32mA new line.\u001b[m\r\n",
        "\\ No newline at end of file\u001b[m\r\n"
       ]
      }
     ],
     "prompt_number": 21
    },
    {
     "cell_type": "markdown",
     "metadata": {},
     "source": [
      "The **checkout** command will allow access to earlier commits (and other branches; more on branches below).  Only an abbreviated hash (the number indicating the commit) is needed."
     ]
    },
    {
     "cell_type": "code",
     "collapsed": false,
     "input": [
      "!git checkout 6d39f4ab"
     ],
     "language": "python",
     "metadata": {},
     "outputs": [
      {
       "output_type": "stream",
       "stream": "stdout",
       "text": [
        "Note: checking out '6d39f4ab'.\r\n",
        "\r\n",
        "You are in 'detached HEAD' state. You can look around, make experimental\r\n",
        "changes and commit them, and you can discard any commits you make in this\r\n",
        "state without impacting any branches by performing another checkout.\r\n",
        "\r\n",
        "If you want to create a new branch to retain commits you create, you may\r\n",
        "do so (now or later) by using -b with the checkout command again. Example:\r\n",
        "\r\n",
        "  git checkout -b <new-branch-name>\r\n",
        "\r\n",
        "HEAD is now at 6d39f4a... New README file\r\n"
       ]
      }
     ],
     "prompt_number": 16
    },
    {
     "cell_type": "code",
     "collapsed": false,
     "input": [
      "%%bash\n",
      "less README"
     ],
     "language": "python",
     "metadata": {},
     "outputs": [
      {
       "output_type": "stream",
       "stream": "stdout",
       "text": [
        "\n",
        "A file with information about the gitdemo repository.\n",
        "A new line."
       ]
      }
     ],
     "prompt_number": 17
    },
    {
     "cell_type": "code",
     "collapsed": false,
     "input": [
      "!git status"
     ],
     "language": "python",
     "metadata": {},
     "outputs": [
      {
       "output_type": "stream",
       "stream": "stdout",
       "text": [
        "\u001b[31mHEAD detached at \u001b[m6d39f4a\r\n",
        "nothing to commit, working directory clean\r\n"
       ]
      }
     ],
     "prompt_number": 18
    },
    {
     "cell_type": "code",
     "collapsed": false,
     "input": [
      "!git checkout master"
     ],
     "language": "python",
     "metadata": {},
     "outputs": [
      {
       "output_type": "stream",
       "stream": "stdout",
       "text": [
        "Previous HEAD position was 6d39f4a... New README file\r\n",
        "Switched to branch 'master'\r\n"
       ]
      }
     ],
     "prompt_number": 19
    },
    {
     "cell_type": "code",
     "collapsed": false,
     "input": [
      "%%bash\n",
      "less README"
     ],
     "language": "python",
     "metadata": {},
     "outputs": [
      {
       "output_type": "stream",
       "stream": "stdout",
       "text": [
        "\n",
        "A file with information about the gitdemo repository.\n",
        "\n",
        "README files usually contains installation instructions, and information about how to get started using the software (for example)."
       ]
      }
     ],
     "prompt_number": 20
    },
    {
     "cell_type": "heading",
     "level": 3,
     "metadata": {},
     "source": [
      "Tagging"
     ]
    },
    {
     "cell_type": "markdown",
     "metadata": {},
     "source": [
      "Git hashes are accurate and unique, but not easy to remember.  Git allows the addition of tags to commits for easy reference, along with annotations to indicate what the tag might mean.  For more on tagging see the [tagging chapter](http://git-scm.com/book/en/v2/Git-Basics-Tagging) in the git reference book.\n",
      "\n",
      "To make a tag, use the **tag** command, with the -a option to include an annotation."
     ]
    },
    {
     "cell_type": "code",
     "collapsed": false,
     "input": [],
     "language": "python",
     "metadata": {},
     "outputs": []
    },
    {
     "cell_type": "code",
     "collapsed": false,
     "input": [],
     "language": "python",
     "metadata": {},
     "outputs": []
    },
    {
     "cell_type": "heading",
     "level": 3,
     "metadata": {},
     "source": [
      "Branching and Merging"
     ]
    },
    {
     "cell_type": "markdown",
     "metadata": {},
     "source": [
      "When initialized, Git makes a path for a series of commits, usually designated \"master\".  Additional commits are added to the master path.  Git allows the establishment of branches off of the main path for major experimental changes that you might want to isolate from the main file. Like the master trunk, branches will consist of a series of commits.  When a branch is developed to a point where you want to incorporate its changes into the main file, the branch can be combined with the master by merging."
     ]
    },
    {
     "cell_type": "code",
     "collapsed": false,
     "input": [],
     "language": "python",
     "metadata": {},
     "outputs": [],
     "prompt_number": 27
    },
    {
     "cell_type": "code",
     "collapsed": false,
     "input": [],
     "language": "python",
     "metadata": {},
     "outputs": []
    }
   ],
   "metadata": {}
  }
 ]
}