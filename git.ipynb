{
 "metadata": {
  "name": "",
  "signature": "sha256:24e5c963387bac788536c1be79fa09e4f2a6bde58322257cf915e49b20295206"
 },
 "nbformat": 3,
 "nbformat_minor": 0,
 "worksheets": [
  {
   "cells": [
    {
     "cell_type": "code",
     "collapsed": false,
     "input": [
      "%cd ~\n",
      "%mkdir git_test\n",
      "%cd git_test"
     ],
     "language": "python",
     "metadata": {},
     "outputs": [
      {
       "output_type": "stream",
       "stream": "stdout",
       "text": [
        "/Users/draible1\n",
        "mkdir: git_test: File exists\r\n"
       ]
      },
      {
       "output_type": "stream",
       "stream": "stdout",
       "text": [
        "/Users/draible1/git_test\n"
       ]
      }
     ],
     "prompt_number": 1
    },
    {
     "cell_type": "code",
     "collapsed": false,
     "input": [
      "!git init"
     ],
     "language": "python",
     "metadata": {},
     "outputs": [
      {
       "output_type": "stream",
       "stream": "stdout",
       "text": [
        "Reinitialized existing Git repository in /Users/draible1/git_test/.git/\r\n"
       ]
      }
     ],
     "prompt_number": 2
    },
    {
     "cell_type": "code",
     "collapsed": false,
     "input": [
      "!git status"
     ],
     "language": "python",
     "metadata": {},
     "outputs": [
      {
       "output_type": "stream",
       "stream": "stdout",
       "text": [
        "On branch master\r\n",
        "Untracked files:\r\n",
        "  (use \"git add <file>...\" to include in what will be committed)\r\n",
        "\r\n",
        "\t\u001b[31mipython/\u001b[m\r\n",
        "\r\n",
        "nothing added to commit but untracked files present (use \"git add\" to track)\r\n"
       ]
      }
     ],
     "prompt_number": 3
    },
    {
     "cell_type": "code",
     "collapsed": false,
     "input": [
      "%%file README\n",
      "\n",
      "A file with information about the gitdemo repository."
     ],
     "language": "python",
     "metadata": {},
     "outputs": [
      {
       "output_type": "stream",
       "stream": "stdout",
       "text": [
        "Overwriting README\n"
       ]
      }
     ],
     "prompt_number": 4
    },
    {
     "cell_type": "code",
     "collapsed": false,
     "input": [
      "!git status"
     ],
     "language": "python",
     "metadata": {},
     "outputs": [
      {
       "output_type": "stream",
       "stream": "stdout",
       "text": [
        "On branch master\r\n",
        "Changes not staged for commit:\r\n",
        "  (use \"git add <file>...\" to update what will be committed)\r\n",
        "  (use \"git checkout -- <file>...\" to discard changes in working directory)\r\n",
        "\r\n",
        "\t\u001b[31mmodified:   README\u001b[m\r\n",
        "\r\n",
        "Untracked files:\r\n",
        "  (use \"git add <file>...\" to include in what will be committed)\r\n",
        "\r\n",
        "\t\u001b[31mipython/\u001b[m\r\n",
        "\r\n",
        "no changes added to commit (use \"git add\" and/or \"git commit -a\")\r\n"
       ]
      }
     ],
     "prompt_number": 5
    },
    {
     "cell_type": "code",
     "collapsed": false,
     "input": [
      "!git add README"
     ],
     "language": "python",
     "metadata": {},
     "outputs": [],
     "prompt_number": 6
    },
    {
     "cell_type": "code",
     "collapsed": false,
     "input": [
      "!git status"
     ],
     "language": "python",
     "metadata": {},
     "outputs": [
      {
       "output_type": "stream",
       "stream": "stdout",
       "text": [
        "On branch master\r\n",
        "Changes to be committed:\r\n",
        "  (use \"git reset HEAD <file>...\" to unstage)\r\n",
        "\r\n",
        "\t\u001b[32mmodified:   README\u001b[m\r\n",
        "\r\n",
        "Untracked files:\r\n",
        "  (use \"git add <file>...\" to include in what will be committed)\r\n",
        "\r\n",
        "\t\u001b[31mipython/\u001b[m\r\n",
        "\r\n"
       ]
      }
     ],
     "prompt_number": 7
    },
    {
     "cell_type": "code",
     "collapsed": false,
     "input": [
      "!git commit -m \"Added a README file\" README"
     ],
     "language": "python",
     "metadata": {},
     "outputs": [
      {
       "output_type": "stream",
       "stream": "stdout",
       "text": [
        "[master aa8e1c4] Added a README file\r\n",
        " 1 file changed, 1 insertion(+), 3 deletions(-)\r\n"
       ]
      }
     ],
     "prompt_number": 8
    },
    {
     "cell_type": "code",
     "collapsed": false,
     "input": [
      "%%file README\n",
      "\n",
      "A file with information about the gitdemo repository.\n",
      "\n",
      "A new line."
     ],
     "language": "python",
     "metadata": {},
     "outputs": [
      {
       "output_type": "stream",
       "stream": "stdout",
       "text": [
        "Overwriting README\n"
       ]
      }
     ],
     "prompt_number": 9
    },
    {
     "cell_type": "code",
     "collapsed": false,
     "input": [
      "!git status"
     ],
     "language": "python",
     "metadata": {},
     "outputs": [
      {
       "output_type": "stream",
       "stream": "stdout",
       "text": [
        "On branch master\r\n",
        "Changes not staged for commit:\r\n",
        "  (use \"git add <file>...\" to update what will be committed)\r\n",
        "  (use \"git checkout -- <file>...\" to discard changes in working directory)\r\n",
        "\r\n",
        "\t\u001b[31mmodified:   README\u001b[m\r\n",
        "\r\n",
        "Untracked files:\r\n",
        "  (use \"git add <file>...\" to include in what will be committed)\r\n",
        "\r\n",
        "\t\u001b[31mipython/\u001b[m\r\n",
        "\r\n",
        "no changes added to commit (use \"git add\" and/or \"git commit -a\")\r\n"
       ]
      }
     ],
     "prompt_number": 10
    },
    {
     "cell_type": "code",
     "collapsed": false,
     "input": [
      "!git commit -m \"added one more line in README\" README"
     ],
     "language": "python",
     "metadata": {},
     "outputs": [
      {
       "output_type": "stream",
       "stream": "stdout",
       "text": [
        "[master fec2c5a] added one more line in README\r\n",
        " 1 file changed, 3 insertions(+), 1 deletion(-)\r\n"
       ]
      }
     ],
     "prompt_number": 11
    },
    {
     "cell_type": "code",
     "collapsed": false,
     "input": [
      "%%file tmpfile\n",
      "\n",
      "A short-lived file."
     ],
     "language": "python",
     "metadata": {},
     "outputs": []
    },
    {
     "cell_type": "code",
     "collapsed": false,
     "input": [
      "!git add tmpfile\n",
      "!git commit -m \"adding file tmpfile\" tmpfile "
     ],
     "language": "python",
     "metadata": {},
     "outputs": []
    },
    {
     "cell_type": "code",
     "collapsed": false,
     "input": [
      "!git rm tmpfile\n",
      "!git commit -m \"remove file tmpfile\" tmpfile "
     ],
     "language": "python",
     "metadata": {},
     "outputs": []
    },
    {
     "cell_type": "code",
     "collapsed": false,
     "input": [
      "!git log"
     ],
     "language": "python",
     "metadata": {},
     "outputs": []
    },
    {
     "cell_type": "code",
     "collapsed": false,
     "input": [
      "%%file README\n",
      "\n",
      "A file with information about the gitdemo repository.\n",
      "\n",
      "README files usually contains installation instructions, and information about how to get started using the software (for example)."
     ],
     "language": "python",
     "metadata": {},
     "outputs": []
    },
    {
     "cell_type": "code",
     "collapsed": false,
     "input": [
      "!git diff README"
     ],
     "language": "python",
     "metadata": {},
     "outputs": []
    },
    {
     "cell_type": "code",
     "collapsed": false,
     "input": [
      "!git checkout -- README\n",
      "!git status"
     ],
     "language": "python",
     "metadata": {},
     "outputs": []
    },
    {
     "cell_type": "code",
     "collapsed": false,
     "input": [
      "!git log"
     ],
     "language": "python",
     "metadata": {},
     "outputs": []
    },
    {
     "cell_type": "code",
     "collapsed": false,
     "input": [
      "!git remote add origin https://github.com/daniorerio/git_test.git"
     ],
     "language": "python",
     "metadata": {},
     "outputs": [
      {
       "output_type": "stream",
       "stream": "stdout",
       "text": [
        "fatal: remote origin already exists.\r\n"
       ]
      }
     ],
     "prompt_number": 12
    },
    {
     "cell_type": "code",
     "collapsed": false,
     "input": [
      "!git remote"
     ],
     "language": "python",
     "metadata": {},
     "outputs": [
      {
       "output_type": "stream",
       "stream": "stdout",
       "text": [
        "origin\r\n"
       ]
      }
     ],
     "prompt_number": 13
    },
    {
     "cell_type": "code",
     "collapsed": false,
     "input": [
      "!git remote show origin"
     ],
     "language": "python",
     "metadata": {},
     "outputs": [
      {
       "output_type": "stream",
       "stream": "stdout",
       "text": [
        "* remote origin\r\n",
        "  Fetch URL: https://github.com/daniorerio/git_test.git\r\n",
        "  Push  URL: https://github.com/daniorerio/git_test.git\r\n",
        "  HEAD branch: (unknown)\r\n"
       ]
      }
     ],
     "prompt_number": 14
    },
    {
     "cell_type": "code",
     "collapsed": false,
     "input": [
      "!git push"
     ],
     "language": "python",
     "metadata": {},
     "outputs": [
      {
       "output_type": "stream",
       "stream": "stdout",
       "text": [
        "warning: push.default is unset; its implicit value is changing in\r\n",
        "Git 2.0 from 'matching' to 'simple'. To squelch this message\r\n",
        "and maintain the current behavior after the default changes, use:\r\n",
        "\r\n",
        "  git config --global push.default matching\r\n",
        "\r\n",
        "To squelch this message and adopt the new behavior now, use:\r\n",
        "\r\n",
        "  git config --global push.default simple\r\n",
        "\r\n",
        "When push.default is set to 'matching', git will push local branches\r\n",
        "to the remote branches that already exist with the same name.\r\n",
        "\r\n",
        "In Git 2.0, Git will default to the more conservative 'simple'\r\n",
        "behavior, which only pushes the current branch to the corresponding\r\n",
        "remote branch that 'git pull' uses to update the current branch.\r\n",
        "\r\n",
        "See 'git help config' and search for 'push.default' for further information.\r\n",
        "(the 'simple' mode was introduced in Git 1.7.11. Use the similar mode\r\n",
        "'current' instead of 'simple' if you sometimes use older versions of Git)\r\n",
        "\r\n"
       ]
      },
      {
       "output_type": "stream",
       "stream": "stdout",
       "text": [
        "No refs in common and none specified; doing nothing.\r\n",
        "Perhaps you should specify a branch such as 'master'.\r\n",
        "Everything up-to-date\r\n"
       ]
      }
     ],
     "prompt_number": 15
    },
    {
     "cell_type": "code",
     "collapsed": false,
     "input": [
      "daniorerio"
     ],
     "language": "python",
     "metadata": {},
     "outputs": []
    },
    {
     "cell_type": "code",
     "collapsed": false,
     "input": [
      "project_name = \"ipython\"\n",
      "project_remote = \"git://github.com/ipython/ipython.git\"\n",
      "project_remote_name = \"origin\"\n",
      "my_fork_remote = \"git@github.com:daniorerio/ipython.git\"\n",
      "my_fork_remote_name = \"daniorerio\""
     ],
     "language": "python",
     "metadata": {},
     "outputs": []
    },
    {
     "cell_type": "code",
     "collapsed": false,
     "input": [
      "# Get a read-only copy of the project\n",
      "!git clone $project_remote\n",
      "\n",
      "# cd into the local project folder\n",
      "%cd $project_name\n",
      "\n",
      "# Link the local repo with my Github fork\n",
      "!git remote add $my_fork_remote_name $my_fork_remote\n",
      "\n",
      "# Check remotes\n",
      "!git remote -v"
     ],
     "language": "python",
     "metadata": {},
     "outputs": []
    },
    {
     "cell_type": "code",
     "collapsed": false,
     "input": [
      "master_branch = \"master\"\n",
      "feature_branch = \"doc_post_serve\""
     ],
     "language": "python",
     "metadata": {},
     "outputs": [],
     "prompt_number": 16
    },
    {
     "cell_type": "code",
     "collapsed": false,
     "input": [
      "# Make sure we are in master branch\n",
      "!git checkout $master_branch\n",
      "\n",
      "# Pull the changes from origin/master\n",
      "!git pull $project_remote_name\n",
      "\n",
      "# Start a new branch to work on\n",
      "!git checkout -b $feature_branch\n",
      "\n",
      "# Check where we are\n",
      "!git status"
     ],
     "language": "python",
     "metadata": {},
     "outputs": [
      {
       "output_type": "stream",
       "stream": "stdout",
       "text": [
        "Already on 'master'\r\n"
       ]
      },
      {
       "output_type": "stream",
       "stream": "stdout",
       "text": [
        "There is no tracking information for the current branch.\r\n",
        "Please specify which branch you want to merge with.\r\n",
        "See git-pull(1) for details\r\n",
        "\r\n",
        "    git pull <remote> <branch>\r\n",
        "\r\n",
        "If you wish to set tracking information for this branch you can do so with:\r\n",
        "\r\n",
        "    git branch --set-upstream-to=origin/<branch> master\r\n",
        "\r\n"
       ]
      },
      {
       "output_type": "stream",
       "stream": "stdout",
       "text": [
        "Switched to a new branch 'doc_post_serve'\r\n"
       ]
      },
      {
       "output_type": "stream",
       "stream": "stdout",
       "text": [
        "On branch doc_post_serve\r\n",
        "Untracked files:\r\n",
        "  (use \"git add <file>...\" to include in what will be committed)\r\n",
        "\r\n",
        "\t\u001b[31mipython/\u001b[m\r\n",
        "\r\n",
        "nothing added to commit but untracked files present (use \"git add\" to track)\r\n"
       ]
      }
     ],
     "prompt_number": 17
    },
    {
     "cell_type": "code",
     "collapsed": false,
     "input": [
      "%ls\n"
     ],
     "language": "python",
     "metadata": {},
     "outputs": []
    },
    {
     "cell_type": "code",
     "collapsed": false,
     "input": [
      "%load docs/source/interactive/nbconvert.rst"
     ],
     "language": "python",
     "metadata": {},
     "outputs": []
    },
    {
     "cell_type": "code",
     "collapsed": false,
     "input": [
      "!git status"
     ],
     "language": "python",
     "metadata": {},
     "outputs": []
    },
    {
     "cell_type": "code",
     "collapsed": false,
     "input": [
      "%load README.rst"
     ],
     "language": "python",
     "metadata": {},
     "outputs": []
    },
    {
     "cell_type": "code",
     "collapsed": false,
     "input": [
      "%%writefile README.rst\n",
      "\n",
      ".. image:: https://img.shields.io/coveralls/ipython/ipython.svg \n",
      "    :target: https://coveralls.io/r/ipython/ipython?branch=master\n",
      "\n",
      ".. image:: https://img.shields.io/pypi/dm/IPython.svg           \n",
      "    :target: https://pypi.python.org/pypi/ipython\n",
      "\n",
      ".. image:: https://img.shields.io/pypi/v/IPython.svg            \n",
      "    :target: https://pypi.python.org/pypi/ipython\n",
      "\n",
      ".. image:: https://img.shields.io/travis/ipython/ipython.svg    \n",
      "    :target: https://travis-ci.org/ipython/ipython\n",
      "\n",
      "\n",
      "===========================================\n",
      " IPython: Productive Interactive Computing\n",
      "===========================================\n",
      "\n",
      "Overview\n",
      "========\n",
      "\n",
      "Welcome to IPython.  Our full documentation is available on `our website\n",
      "<http://ipython.org/documentation.html>`_; if you downloaded a built source\n",
      "distribution the ``docs/source`` directory contains the plaintext version of\n",
      "these manuals.  If you have Sphinx installed, you can build them by typing\n",
      "``cd docs; make html`` for local browsing.\n",
      "\n",
      "\n",
      "See the `install page <http://ipython.org/install.html>`__ to install IPython.\n",
      "\n",
      "The Notebook, Qt console and a number of other pieces are now parts of *Jupyter*.\n",
      "See the `Jupyter installation docs <http://jupyter.readthedocs.org/en/latest/install.html>`__\n",
      "if you want to use these.\n",
      "\n",
      "Officially, IPython requires Python version 2.7, or 3.3 and above.\n",
      "IPython 1.x is the last IPython version to support Python 2.6 and 3.2.\n",
      "\n",
      "\n",
      "\n",
      "Instant running\n",
      "===============\n",
      "\n",
      "You can run IPython from this directory without even installing it system-wide\n",
      "by typing at the terminal::\n",
      "\n",
      "   $ python -m IPython\n",
      "\n"
     ],
     "language": "python",
     "metadata": {},
     "outputs": []
    },
    {
     "cell_type": "code",
     "collapsed": false,
     "input": [
      "!git status"
     ],
     "language": "python",
     "metadata": {},
     "outputs": []
    },
    {
     "cell_type": "code",
     "collapsed": false,
     "input": [
      "!git diff"
     ],
     "language": "python",
     "metadata": {},
     "outputs": []
    },
    {
     "cell_type": "code",
     "collapsed": false,
     "input": [
      "!git add ."
     ],
     "language": "python",
     "metadata": {},
     "outputs": []
    },
    {
     "cell_type": "code",
     "collapsed": false,
     "input": [
      "!git commit -am \"Added return to the README doc.\""
     ],
     "language": "python",
     "metadata": {},
     "outputs": []
    },
    {
     "cell_type": "code",
     "collapsed": false,
     "input": [
      "!git push $my_fork_remote_name $feature_branch"
     ],
     "language": "python",
     "metadata": {},
     "outputs": [
      {
       "output_type": "stream",
       "stream": "stdout",
       "text": [
        "warning: push.default is unset; its implicit value is changing in\r\n",
        "Git 2.0 from 'matching' to 'simple'. To squelch this message\r\n",
        "and maintain the current behavior after the default changes, use:\r\n",
        "\r\n",
        "  git config --global push.default matching\r\n",
        "\r\n",
        "To squelch this message and adopt the new behavior now, use:\r\n",
        "\r\n",
        "  git config --global push.default simple\r\n",
        "\r\n",
        "When push.default is set to 'matching', git will push local branches\r\n",
        "to the remote branches that already exist with the same name.\r\n",
        "\r\n",
        "In Git 2.0, Git will default to the more conservative 'simple'\r\n",
        "behavior, which only pushes the current branch to the corresponding\r\n",
        "remote branch that 'git pull' uses to update the current branch.\r\n",
        "\r\n",
        "See 'git help config' and search for 'push.default' for further information.\r\n",
        "(the 'simple' mode was introduced in Git 1.7.11. Use the similar mode\r\n",
        "'current' instead of 'simple' if you sometimes use older versions of Git)\r\n",
        "\r\n"
       ]
      },
      {
       "output_type": "stream",
       "stream": "stdout",
       "text": [
        "No refs in common and none specified; doing nothing.\r\n",
        "Perhaps you should specify a branch such as 'master'.\r\n",
        "Everything up-to-date\r\n"
       ]
      }
     ],
     "prompt_number": 18
    },
    {
     "cell_type": "code",
     "collapsed": false,
     "input": [
      "!git remote\n"
     ],
     "language": "python",
     "metadata": {},
     "outputs": [
      {
       "output_type": "stream",
       "stream": "stdout",
       "text": [
        "origin\r\n"
       ]
      }
     ],
     "prompt_number": 19
    },
    {
     "cell_type": "code",
     "collapsed": false,
     "input": [
      "%%bash\n",
      "echo \"# git_test\" >> README.md\n",
      "git init\n",
      "git add README.md\n",
      "git commit -m \"first commit\"\n",
      "git remote add origin git@github.com:daniorerio/git_test.git\n",
      "git push -u origin master"
     ],
     "language": "python",
     "metadata": {},
     "outputs": [
      {
       "output_type": "stream",
       "stream": "stdout",
       "text": [
        "Reinitialized existing Git repository in /Users/draible1/git_test/.git/\n",
        "[doc_post_serve b7c8e2b] first commit\n",
        " 1 file changed, 1 insertion(+)\n",
        " create mode 100644 README.md\n",
        "Branch master set up to track remote branch master from origin.\n"
       ]
      },
      {
       "output_type": "stream",
       "stream": "stderr",
       "text": [
        "fatal: remote origin already exists.\n",
        "To https://github.com/daniorerio/git_test.git\n",
        " * [new branch]      master -> master\n"
       ]
      }
     ],
     "prompt_number": 20
    },
    {
     "cell_type": "code",
     "collapsed": false,
     "input": [
      "%%bash\n",
      "echo \"# git_test2\" >> README.md\n",
      "git init\n",
      "git add README.md\n",
      "git commit -m \"first commit\"\n",
      "git remote add origin git@github.com:daniorerio/git_test2.git\n",
      "git push -u origin master"
     ],
     "language": "python",
     "metadata": {},
     "outputs": [
      {
       "output_type": "stream",
       "stream": "stdout",
       "text": [
        "Reinitialized existing Git repository in /Users/draible1/git_test/.git/\n",
        "[doc_post_serve 885e857] first commit\n",
        " 1 file changed, 1 insertion(+)\n",
        "Branch master set up to track remote branch master from origin.\n"
       ]
      },
      {
       "output_type": "stream",
       "stream": "stderr",
       "text": [
        "fatal: remote origin already exists.\n",
        "Everything up-to-date\n"
       ]
      }
     ],
     "prompt_number": 21
    },
    {
     "cell_type": "code",
     "collapsed": false,
     "input": [
      "%cd ~\n",
      "%mkdir git_test2\n",
      "%cd git_test2"
     ],
     "language": "python",
     "metadata": {},
     "outputs": [
      {
       "output_type": "stream",
       "stream": "stdout",
       "text": [
        "/Users/draible1\n"
       ]
      },
      {
       "output_type": "stream",
       "stream": "stdout",
       "text": [
        "/Users/draible1/git_test2\n"
       ]
      }
     ],
     "prompt_number": 22
    },
    {
     "cell_type": "code",
     "collapsed": false,
     "input": [
      "%%bash\n",
      "echo \"# git_test2\" >> README.md\n",
      "git init\n",
      "git add README.md\n",
      "git commit -m \"first commit\"\n",
      "git remote add origin git@github.com:daniorerio/git_test2.git\n",
      "git push -u origin master"
     ],
     "language": "python",
     "metadata": {},
     "outputs": [
      {
       "output_type": "stream",
       "stream": "stdout",
       "text": [
        "Initialized empty Git repository in /Users/draible1/git_test2/.git/\n",
        "[master (root-commit) 13f51c6] first commit\n",
        " 1 file changed, 1 insertion(+)\n",
        " create mode 100644 README.md\n",
        "Branch master set up to track remote branch master from origin.\n"
       ]
      },
      {
       "output_type": "stream",
       "stream": "stderr",
       "text": [
        "Identity added: /Users/draible1/.ssh/id_rsa (/Users/draible1/.ssh/id_rsa)\n",
        "To git@github.com:daniorerio/git_test2.git\n",
        " * [new branch]      master -> master\n"
       ]
      }
     ],
     "prompt_number": 23
    },
    {
     "cell_type": "code",
     "collapsed": false,
     "input": [
      "!git remote show origin"
     ],
     "language": "python",
     "metadata": {},
     "outputs": [
      {
       "output_type": "stream",
       "stream": "stdout",
       "text": [
        "* remote origin\r\n",
        "  Fetch URL: git@github.com:daniorerio/git_test2.git\r\n",
        "  Push  URL: git@github.com:daniorerio/git_test2.git\r\n",
        "  HEAD branch: master\r\n",
        "  Remote branch:\r\n",
        "    master tracked\r\n",
        "  Local branch configured for 'git pull':\r\n",
        "    master merges with remote master\r\n",
        "  Local ref configured for 'git push':\r\n",
        "    master pushes to master (up to date)\r\n"
       ]
      }
     ],
     "prompt_number": 24
    },
    {
     "cell_type": "code",
     "collapsed": false,
     "input": [
      "%%file README\n",
      "\n",
      "A file for testing connections between GitHub using IPython Notboook."
     ],
     "language": "python",
     "metadata": {},
     "outputs": [
      {
       "output_type": "stream",
       "stream": "stdout",
       "text": [
        "Writing README\n"
       ]
      }
     ],
     "prompt_number": 25
    },
    {
     "cell_type": "code",
     "collapsed": false,
     "input": [
      "!git add README\n",
      "!git status"
     ],
     "language": "python",
     "metadata": {},
     "outputs": [
      {
       "output_type": "stream",
       "stream": "stdout",
       "text": [
        "On branch master\r\n",
        "Your branch is up-to-date with 'origin/master'.\r\n",
        "\r\n",
        "Changes to be committed:\r\n",
        "  (use \"git reset HEAD <file>...\" to unstage)\r\n",
        "\r\n",
        "\t\u001b[32mnew file:   README\u001b[m\r\n",
        "\r\n"
       ]
      }
     ],
     "prompt_number": 26
    },
    {
     "cell_type": "code",
     "collapsed": false,
     "input": [
      "!git commit -m \"Changed README file\" README"
     ],
     "language": "python",
     "metadata": {},
     "outputs": [
      {
       "output_type": "stream",
       "stream": "stdout",
       "text": [
        "[master 6176284] Changed README file\r\n",
        " 1 file changed, 2 insertions(+)\r\n",
        " create mode 100644 README\r\n"
       ]
      }
     ],
     "prompt_number": 27
    },
    {
     "cell_type": "code",
     "collapsed": false,
     "input": [
      "!git push"
     ],
     "language": "python",
     "metadata": {},
     "outputs": [
      {
       "output_type": "stream",
       "stream": "stdout",
       "text": [
        "warning: push.default is unset; its implicit value is changing in\r\n",
        "Git 2.0 from 'matching' to 'simple'. To squelch this message\r\n",
        "and maintain the current behavior after the default changes, use:\r\n",
        "\r\n",
        "  git config --global push.default matching\r\n",
        "\r\n",
        "To squelch this message and adopt the new behavior now, use:\r\n",
        "\r\n",
        "  git config --global push.default simple\r\n",
        "\r\n",
        "When push.default is set to 'matching', git will push local branches\r\n",
        "to the remote branches that already exist with the same name.\r\n",
        "\r\n",
        "In Git 2.0, Git will default to the more conservative 'simple'\r\n",
        "behavior, which only pushes the current branch to the corresponding\r\n",
        "remote branch that 'git pull' uses to update the current branch.\r\n",
        "\r\n",
        "See 'git help config' and search for 'push.default' for further information.\r\n",
        "(the 'simple' mode was introduced in Git 1.7.11. Use the similar mode\r\n",
        "'current' instead of 'simple' if you sometimes use older versions of Git)\r\n",
        "\r\n"
       ]
      },
      {
       "output_type": "stream",
       "stream": "stdout",
       "text": [
        "Counting objects: 4, done.\r\n",
        "Delta compression using up to 8 threads.\r\n",
        "Compressing objects:  33% (1/3)   \r",
        "Compressing objects:  66% (2/3)   \r",
        "Compressing objects: 100% (3/3)   \r",
        "Compressing objects: 100% (3/3), done.\r\n",
        "Writing objects:  33% (1/3)   \r",
        "Writing objects:  66% (2/3)   \r",
        "Writing objects: 100% (3/3)   \r",
        "Writing objects: 100% (3/3), 343 bytes | 0 bytes/s, done.\r\n",
        "Total 3 (delta 0), reused 0 (delta 0)\r\n"
       ]
      },
      {
       "output_type": "stream",
       "stream": "stdout",
       "text": [
        "To git@github.com:daniorerio/git_test2.git\r\n",
        "   13f51c6..6176284  master -> master\r\n"
       ]
      }
     ],
     "prompt_number": 28
    },
    {
     "cell_type": "code",
     "collapsed": false,
     "input": [
      "!git config --global push.default simple"
     ],
     "language": "python",
     "metadata": {},
     "outputs": [],
     "prompt_number": 29
    },
    {
     "cell_type": "code",
     "collapsed": false,
     "input": [
      "%%file README\n",
      "\n",
      "A file for testing connections between GitHub using IPython Notboook.\n",
      "A new line."
     ],
     "language": "python",
     "metadata": {},
     "outputs": [
      {
       "output_type": "stream",
       "stream": "stdout",
       "text": [
        "Overwriting README\n"
       ]
      }
     ],
     "prompt_number": 30
    },
    {
     "cell_type": "code",
     "collapsed": false,
     "input": [
      "!git add README\n",
      "!git status"
     ],
     "language": "python",
     "metadata": {},
     "outputs": [
      {
       "output_type": "stream",
       "stream": "stdout",
       "text": [
        "On branch master\r\n",
        "Your branch is up-to-date with 'origin/master'.\r\n",
        "\r\n",
        "Changes to be committed:\r\n",
        "  (use \"git reset HEAD <file>...\" to unstage)\r\n",
        "\r\n",
        "\t\u001b[32mmodified:   README\u001b[m\r\n",
        "\r\n"
       ]
      }
     ],
     "prompt_number": 31
    },
    {
     "cell_type": "code",
     "collapsed": false,
     "input": [
      "!git commit -m \"Changed README file\" README"
     ],
     "language": "python",
     "metadata": {},
     "outputs": [
      {
       "output_type": "stream",
       "stream": "stdout",
       "text": [
        "[master df4bb0d] Changed README file\r\n",
        " 1 file changed, 2 insertions(+), 1 deletion(-)\r\n"
       ]
      }
     ],
     "prompt_number": 32
    },
    {
     "cell_type": "code",
     "collapsed": false,
     "input": [
      "!git push"
     ],
     "language": "python",
     "metadata": {},
     "outputs": [
      {
       "output_type": "stream",
       "stream": "stdout",
       "text": [
        "Warning: Permanently added the RSA host key for IP address '192.30.252.129' to the list of known hosts.\r",
        "\r\n"
       ]
      },
      {
       "output_type": "stream",
       "stream": "stdout",
       "text": [
        "Counting objects: 5, done.\r\n",
        "Delta compression using up to 8 threads.\r\n",
        "Compressing objects:  33% (1/3)   \r",
        "Compressing objects:  66% (2/3)   \r",
        "Compressing objects: 100% (3/3)   \r",
        "Compressing objects: 100% (3/3), done.\r\n",
        "Writing objects:  33% (1/3)   \r",
        "Writing objects:  66% (2/3)   \r",
        "Writing objects: 100% (3/3)   \r",
        "Writing objects: 100% (3/3), 312 bytes | 0 bytes/s, done.\r\n",
        "Total 3 (delta 1), reused 0 (delta 0)\r\n"
       ]
      },
      {
       "output_type": "stream",
       "stream": "stdout",
       "text": [
        "To git@github.com:daniorerio/git_test2.git\r\n",
        "   6176284..df4bb0d  master -> master\r\n"
       ]
      }
     ],
     "prompt_number": 33
    },
    {
     "cell_type": "code",
     "collapsed": false,
     "input": [
      "%%bash\n",
      "git --version"
     ],
     "language": "python",
     "metadata": {},
     "outputs": [
      {
       "output_type": "stream",
       "stream": "stdout",
       "text": [
        "git version 2.5.1\n"
       ]
      }
     ],
     "prompt_number": 1
    },
    {
     "cell_type": "code",
     "collapsed": false,
     "input": [
      "!hub --noop"
     ],
     "language": "python",
     "metadata": {},
     "outputs": [
      {
       "output_type": "stream",
       "stream": "stdout",
       "text": [
        "usage: git [--version] [--exec-path[=<path>]] [--html-path] [--man-path] [--info-path]\r\n",
        "           [-p|--paginate|--no-pager] [--no-replace-objects] [--bare]\r\n",
        "           [--git-dir=<path>] [--work-tree=<path>] [--namespace=<name>]\r\n",
        "           [-c name=value] [--help]\r\n",
        "           <command> [<args>]\r\n",
        "\r\n",
        "Basic Commands:\r\n",
        "   init       Create an empty git repository or reinitialize an existing one\r\n",
        "   add        Add new or modified files to the staging area\r\n",
        "   rm         Remove files from the working directory and staging area\r\n",
        "   mv         Move or rename a file, a directory, or a symlink\r\n",
        "   status     Show the status of the working directory and staging area\r\n",
        "   commit     Record changes to the repository\r\n",
        "\r\n",
        "History Commands:\r\n",
        "   log        Show the commit history log\r\n",
        "   diff       Show changes between commits, commit and working tree, etc\r\n",
        "   show       Show information about commits, tags or files\r\n",
        "\r\n",
        "Branching Commands:\r\n",
        "   branch     List, create, or delete branches\r\n",
        "   checkout   Switch the active branch to another branch\r\n",
        "   merge      Join two or more development histories (branches) together\r\n",
        "   tag        Create, list, delete, sign or verify a tag object\r\n",
        "\r\n",
        "Remote Commands:\r\n",
        "   clone      Clone a remote repository into a new directory\r\n",
        "   fetch      Download data, tags and branches from a remote repository\r\n",
        "   pull       Fetch from and merge with another repository or a local branch\r\n",
        "   push       Upload data, tags and branches to a remote repository\r\n",
        "   remote     View and manage a set of remote repositories\r\n",
        "\r\n",
        "Advanced Commands:\r\n",
        "   reset      Reset your staging area or working directory to another point\r\n",
        "   rebase     Re-apply a series of patches in one branch onto another\r\n",
        "   bisect     Find by binary search the change that introduced a bug\r\n",
        "   grep       Print files with lines matching a pattern in your codebase\r\n",
        "\r\n",
        "GitHub Commands:\r\n",
        "   pull-request   Open a pull request on GitHub\r\n",
        "   fork           Make a fork of a remote repository on GitHub and add as remote\r\n",
        "   create         Create this repository on GitHub and add GitHub as origin\r\n",
        "   browse         Open a GitHub page in the default browser\r\n",
        "   compare        Open a compare page on GitHub\r\n",
        "   release        List or create releases (beta)\r\n",
        "   issue          List or create issues (beta)\r\n",
        "   ci-status      Show the CI status of a commit\r\n",
        "\r\n",
        "See 'git help <command>' for more information on a specific command.\r\n"
       ]
      }
     ],
     "prompt_number": 3
    },
    {
     "cell_type": "code",
     "collapsed": false,
     "input": [
      "%load_ext pypath_magic"
     ],
     "language": "python",
     "metadata": {},
     "outputs": [],
     "prompt_number": 1
    },
    {
     "cell_type": "code",
     "collapsed": false,
     "input": [
      "%pypath"
     ],
     "language": "python",
     "metadata": {},
     "outputs": [
      {
       "output_type": "stream",
       "stream": "stdout",
       "text": [
        "No user paths are defined.\n",
        "See `%pypath?` for usage information.\n"
       ]
      }
     ],
     "prompt_number": 2
    },
    {
     "cell_type": "code",
     "collapsed": false,
     "input": [
      "%cd ~/Documents/Canopy/python_notebooks"
     ],
     "language": "python",
     "metadata": {},
     "outputs": [
      {
       "output_type": "stream",
       "stream": "stdout",
       "text": [
        "/Users/draible1/Documents/Canopy/python_notebooks\n"
       ]
      }
     ],
     "prompt_number": 1
    },
    {
     "cell_type": "code",
     "collapsed": false,
     "input": [
      "!git init\n",
      "!git status"
     ],
     "language": "python",
     "metadata": {},
     "outputs": [
      {
       "output_type": "stream",
       "stream": "stdout",
       "text": [
        "Initialized empty Git repository in /Users/draible1/Documents/Canopy/python_notebooks/.git/\r\n"
       ]
      },
      {
       "output_type": "stream",
       "stream": "stdout",
       "text": [
        "On branch master\r\n",
        "\r\n",
        "Initial commit\r\n",
        "\r\n",
        "Untracked files:\r\n",
        "  (use \"git add <file>...\" to include in what will be committed)\r\n",
        "\r\n",
        "\t\u001b[31mREADME.md\u001b[m\r\n",
        "\t\u001b[31mexercise_answers/\u001b[m\r\n",
        "\t\u001b[31mexercises/\u001b[m\r\n",
        "\t\u001b[31mlessons/\u001b[m\r\n",
        "\r\n",
        "nothing added to commit but untracked files present (use \"git add\" to track)\r\n"
       ]
      }
     ],
     "prompt_number": 2
    },
    {
     "cell_type": "code",
     "collapsed": false,
     "input": [
      "%%file README.md\n",
      "\n",
      "Notebooks to teach python"
     ],
     "language": "python",
     "metadata": {},
     "outputs": [
      {
       "output_type": "stream",
       "stream": "stdout",
       "text": [
        "Writing README.md\n"
       ]
      }
     ],
     "prompt_number": 3
    },
    {
     "cell_type": "code",
     "collapsed": false,
     "input": [
      "!git status"
     ],
     "language": "python",
     "metadata": {},
     "outputs": [
      {
       "output_type": "stream",
       "stream": "stdout",
       "text": [
        "On branch master\r\n",
        "\r\n",
        "Initial commit\r\n",
        "\r\n",
        "Untracked files:\r\n",
        "  (use \"git add <file>...\" to include in what will be committed)\r\n",
        "\r\n",
        "\t\u001b[31mREADME.md\u001b[m\r\n",
        "\r\n",
        "nothing added to commit but untracked files present (use \"git add\" to track)\r\n"
       ]
      }
     ],
     "prompt_number": 4
    },
    {
     "cell_type": "code",
     "collapsed": false,
     "input": [
      "%%bash\n",
      "git init\n",
      "git add README.md\n",
      "git commit -m \"first commit\"\n",
      "git remote add origin git@github.com:daniorerio/python-notebooks.git\n",
      "git push -u origin master"
     ],
     "language": "python",
     "metadata": {},
     "outputs": [
      {
       "output_type": "stream",
       "stream": "stdout",
       "text": [
        "Reinitialized existing Git repository in /Users/draible1/Documents/Canopy/python_notebooks/.git/\n",
        "[master (root-commit) c01e652] first commit\n",
        " 1 file changed, 2 insertions(+)\n",
        " create mode 100644 README.md\n",
        "Branch master set up to track remote branch master from origin.\n"
       ]
      },
      {
       "output_type": "stream",
       "stream": "stderr",
       "text": [
        "Warning: Permanently added the RSA host key for IP address '192.30.252.131' to the list of known hosts.\r\n",
        "To git@github.com:daniorerio/python-notebooks.git\n",
        " * [new branch]      master -> master\n"
       ]
      }
     ],
     "prompt_number": 5
    },
    {
     "cell_type": "code",
     "collapsed": false,
     "input": [
      "!git add exercises/*"
     ],
     "language": "python",
     "metadata": {},
     "outputs": [],
     "prompt_number": 4
    },
    {
     "cell_type": "code",
     "collapsed": false,
     "input": [
      "!git status"
     ],
     "language": "python",
     "metadata": {},
     "outputs": [
      {
       "output_type": "stream",
       "stream": "stdout",
       "text": [
        "On branch master\r\n",
        "Your branch is up-to-date with 'origin/master'.\r\n",
        "Changes to be committed:\r\n",
        "  (use \"git reset HEAD <file>...\" to unstage)\r\n",
        "\r\n",
        "\t\u001b[32mnew file:   exercises/0. Unix and Shell.ipynb\u001b[m\r\n",
        "\r\n"
       ]
      }
     ],
     "prompt_number": 5
    },
    {
     "cell_type": "code",
     "collapsed": false,
     "input": [
      "!git commit -m \"Added Unix Shell lesson\" "
     ],
     "language": "python",
     "metadata": {},
     "outputs": [
      {
       "output_type": "stream",
       "stream": "stdout",
       "text": [
        "[master 0e2954f] Added Unix Shell lesson\r\n",
        " 1 file changed, 421 insertions(+)\r\n",
        " create mode 100644 exercises/0. Unix and Shell.ipynb\r\n"
       ]
      }
     ],
     "prompt_number": 6
    },
    {
     "cell_type": "code",
     "collapsed": false,
     "input": [
      "!git push -u origin master"
     ],
     "language": "python",
     "metadata": {},
     "outputs": [
      {
       "output_type": "stream",
       "stream": "stdout",
       "text": [
        "Counting objects: 4, done.\r\n",
        "Delta compression using up to 8 threads.\r\n",
        "Compressing objects:  25% (1/4)   \r",
        "Compressing objects:  50% (2/4)   \r",
        "Compressing objects:  75% (3/4)   \r",
        "Compressing objects: 100% (4/4)   \r",
        "Compressing objects: 100% (4/4), done.\r\n",
        "Writing objects:  25% (1/4)   \r",
        "Writing objects:  50% (2/4)   \r",
        "Writing objects:  75% (3/4)   \r",
        "Writing objects: 100% (4/4)   \r",
        "Writing objects: 100% (4/4), 2.04 KiB | 0 bytes/s, done.\r\n",
        "Total 4 (delta 0), reused 0 (delta 0)\r\n"
       ]
      },
      {
       "output_type": "stream",
       "stream": "stdout",
       "text": [
        "To git@github.com:daniorerio/python-notebooks.git\r\n",
        "   f6a1390..0e2954f  master -> master\r\n",
        "Branch master set up to track remote branch master from origin.\r\n"
       ]
      }
     ],
     "prompt_number": 7
    },
    {
     "cell_type": "code",
     "collapsed": false,
     "input": [
      "%cd ~/Documents/Canopy/python_notebooks\n",
      "!git add exercises/*\n",
      "!git add lessons/*\n",
      "!git add exercise_answers/* \n",
      "!git status"
     ],
     "language": "python",
     "metadata": {},
     "outputs": [
      {
       "output_type": "stream",
       "stream": "stdout",
       "text": [
        "/Users/draible1/Documents/Canopy/python_notebooks\n"
       ]
      },
      {
       "output_type": "stream",
       "stream": "stdout",
       "text": [
        "On branch master\r\n",
        "Your branch is up-to-date with 'origin/master'.\r\n",
        "Changes to be committed:\r\n",
        "  (use \"git reset HEAD <file>...\" to unstage)\r\n",
        "\r\n",
        "\t\u001b[32mnew file:   exercises/0. Unix and Shell.ipynb\u001b[m\r\n",
        "\r\n",
        "Untracked files:\r\n",
        "  (use \"git add <file>...\" to include in what will be committed)\r\n",
        "\r\n",
        "\t\u001b[31mexercises/.ipynb_checkpoints/\u001b[m\r\n",
        "\r\n"
       ]
      }
     ],
     "prompt_number": 29
    },
    {
     "cell_type": "code",
     "collapsed": false,
     "input": [
      "!git commit -m \"Adding files\""
     ],
     "language": "python",
     "metadata": {},
     "outputs": [
      {
       "output_type": "stream",
       "stream": "stdout",
       "text": [
        "[master e4a910e] Adding files\r\n",
        " 1 file changed, 421 insertions(+)\r\n",
        " create mode 100644 exercises/0. Unix and Shell.ipynb\r\n"
       ]
      }
     ],
     "prompt_number": 30
    },
    {
     "cell_type": "code",
     "collapsed": false,
     "input": [
      "!git push -u origin master"
     ],
     "language": "python",
     "metadata": {},
     "outputs": [
      {
       "output_type": "stream",
       "stream": "stdout",
       "text": [
        "Counting objects: 4, done.\r\n",
        "Delta compression using up to 8 threads.\r\n",
        "Compressing objects:  25% (1/4)   \r",
        "Compressing objects:  50% (2/4)   \r",
        "Compressing objects:  75% (3/4)   \r",
        "Compressing objects: 100% (4/4)   \r",
        "Compressing objects: 100% (4/4), done.\r\n",
        "Writing objects:  25% (1/4)   \r",
        "Writing objects:  50% (2/4)   \r",
        "Writing objects:  75% (3/4)   \r",
        "Writing objects: 100% (4/4)   \r",
        "Writing objects: 100% (4/4), 2.02 KiB | 0 bytes/s, done.\r\n",
        "Total 4 (delta 1), reused 0 (delta 0)\r\n"
       ]
      },
      {
       "output_type": "stream",
       "stream": "stdout",
       "text": [
        "To git@github.com:daniorerio/python-notebooks.git\r\n",
        "   bce18a4..e4a910e  master -> master\r\n",
        "Branch master set up to track remote branch master from origin.\r\n"
       ]
      }
     ],
     "prompt_number": 31
    },
    {
     "cell_type": "code",
     "collapsed": false,
     "input": [
      "!git pull origin"
     ],
     "language": "python",
     "metadata": {},
     "outputs": [
      {
       "output_type": "stream",
       "stream": "stdout",
       "text": [
        "remote: Counting objects: 9, done.\u001b[K\r\n",
        "remote: Compressing objects:  11% (1/9)   \u001b[K\r",
        "remote: Compressing objects:  22% (2/9)   \u001b[K\r",
        "remote: Compressing objects:  33% (3/9)   \u001b[K\r",
        "remote: Compressing objects:  44% (4/9)   \u001b[K\r",
        "remote: Compressing objects:  55% (5/9)   \u001b[K\r",
        "remote: Compressing objects:  66% (6/9)   \u001b[K\r",
        "remote: Compressing objects:  77% (7/9)   \u001b[K\r",
        "remote: Compressing objects:  88% (8/9)   \u001b[K\r",
        "remote: Compressing objects: 100% (9/9)   \u001b[K\r",
        "remote: Compressing objects: 100% (9/9), done.\u001b[K\r\n",
        "remote: Total 9 (delta 2), reused 2 (delta 0), pack-reused 0\u001b[K\r\n",
        "Unpacking objects:  11% (1/9)   \r",
        "Unpacking objects:  22% (2/9)   \r",
        "Unpacking objects:  33% (3/9)   \r",
        "Unpacking objects:  44% (4/9)   \r",
        "Unpacking objects:  55% (5/9)   \r",
        "Unpacking objects:  66% (6/9)   \r",
        "Unpacking objects:  77% (7/9)   \r",
        "Unpacking objects:  88% (8/9)   \r",
        "Unpacking objects: 100% (9/9)   \r",
        "Unpacking objects: 100% (9/9), done.\r\n"
       ]
      },
      {
       "output_type": "stream",
       "stream": "stdout",
       "text": [
        "From github.com:daniorerio/python-notebooks\r\n",
        "   4696745..6937e6b  master     -> origin/master\r\n",
        "Updating 4696745..6937e6b\r\n"
       ]
      },
      {
       "output_type": "stream",
       "stream": "stdout",
       "text": [
        "Fast-forward\r\n",
        " exercises/0. Unix and Shell.ipynb         | 429 \u001b[31m------------------------------\u001b[m\r\n",
        " exercises/0.Introduction References.ipynb |  95 \u001b[31m-------\u001b[m\r\n",
        " lessons/Week 1 Exercises.ipynb            | 111 \u001b[31m--------\u001b[m\r\n",
        " 3 files changed, 635 deletions(-)\r\n",
        " delete mode 100644 exercises/0. Unix and Shell.ipynb\r\n",
        " delete mode 100644 exercises/0.Introduction References.ipynb\r\n",
        " delete mode 100644 lessons/Week 1 Exercises.ipynb\r\n"
       ]
      }
     ],
     "prompt_number": 22
    },
    {
     "cell_type": "code",
     "collapsed": false,
     "input": [
      "!git push -u origin master"
     ],
     "language": "python",
     "metadata": {},
     "outputs": [
      {
       "output_type": "stream",
       "stream": "stdout",
       "text": [
        "Branch master set up to track remote branch master from origin.\r\n",
        "Everything up-to-date\r\n"
       ]
      }
     ],
     "prompt_number": 23
    },
    {
     "cell_type": "code",
     "collapsed": false,
     "input": [
      "%cd ~/Documents/Canopy/python_notebooks"
     ],
     "language": "python",
     "metadata": {},
     "outputs": [
      {
       "output_type": "stream",
       "stream": "stdout",
       "text": [
        "/Users/draible1/Documents/Canopy/python_notebooks\n"
       ]
      }
     ],
     "prompt_number": 9
    },
    {
     "cell_type": "code",
     "collapsed": false,
     "input": [
      "!git init\n",
      "!git status"
     ],
     "language": "python",
     "metadata": {},
     "outputs": [
      {
       "output_type": "stream",
       "stream": "stdout",
       "text": [
        "Reinitialized existing Git repository in /Users/draible1/Documents/Canopy/python_notebooks/.git/\r\n"
       ]
      },
      {
       "output_type": "stream",
       "stream": "stdout",
       "text": [
        "On branch master\r\n",
        "Your branch is up-to-date with 'origin/master'.\r\n",
        "Changes not staged for commit:\r\n",
        "  (use \"git add/rm <file>...\" to update what will be committed)\r\n",
        "  (use \"git checkout -- <file>...\" to discard changes in working directory)\r\n",
        "\r\n",
        "\t\u001b[31mdeleted:    exercises/Week 5 Exercises Answers.ipynb\u001b[m\r\n",
        "\r\n",
        "Untracked files:\r\n",
        "  (use \"git add <file>...\" to include in what will be committed)\r\n",
        "\r\n",
        "\t\u001b[31mexercises/.ipynb_checkpoints/\u001b[m\r\n",
        "\t\u001b[31mlessons/.ipynb_checkpoints/\u001b[m\r\n",
        "\r\n",
        "no changes added to commit (use \"git add\" and/or \"git commit -a\")\r\n"
       ]
      }
     ],
     "prompt_number": 10
    },
    {
     "cell_type": "code",
     "collapsed": false,
     "input": [
      "!git add README.md\n",
      "!git add exercises/*\n",
      "!git add lessons/*\n",
      "!git status"
     ],
     "language": "python",
     "metadata": {},
     "outputs": [
      {
       "output_type": "stream",
       "stream": "stdout",
       "text": [
        "On branch master\r\n",
        "Your branch is up-to-date with 'origin/master'.\r\n",
        "Changes to be committed:\r\n",
        "  (use \"git reset HEAD <file>...\" to unstage)\r\n",
        "\r\n",
        "\t\u001b[32mnew file:   exercises/Week 5 Exercises Answers.ipynb\u001b[m\r\n",
        "\t\u001b[32mmodified:   lessons/0. Unix and Shell.ipynb\u001b[m\r\n",
        "\r\n",
        "Untracked files:\r\n",
        "  (use \"git add <file>...\" to include in what will be committed)\r\n",
        "\r\n",
        "\t\u001b[31mexercises/.ipynb_checkpoints/\u001b[m\r\n",
        "\t\u001b[31mlessons/.ipynb_checkpoints/\u001b[m\r\n",
        "\r\n"
       ]
      }
     ],
     "prompt_number": 3
    },
    {
     "cell_type": "code",
     "collapsed": false,
     "input": [
      "!git commit -m \"Adding files\""
     ],
     "language": "python",
     "metadata": {},
     "outputs": [
      {
       "output_type": "stream",
       "stream": "stdout",
       "text": [
        "[master a51e3e3] Adding files\r\n",
        " 2 files changed, 514 insertions(+), 1 deletion(-)\r\n",
        " create mode 100644 exercises/Week 5 Exercises Answers.ipynb\r\n"
       ]
      }
     ],
     "prompt_number": 4
    },
    {
     "cell_type": "code",
     "collapsed": false,
     "input": [
      "%%bash\n",
      "git remote add origin git@github.com:daniorerio/python_notebooks.git\n",
      "git push -u origin master"
     ],
     "language": "python",
     "metadata": {},
     "outputs": [
      {
       "output_type": "stream",
       "stream": "stdout",
       "text": [
        "Branch master set up to track remote branch master from origin.\n"
       ]
      },
      {
       "output_type": "stream",
       "stream": "stderr",
       "text": [
        "fatal: remote origin already exists.\n",
        "To git@github.com:daniorerio/python_notebooks.git\n",
        "   d82b2cb..d170e04  master -> master\n"
       ]
      }
     ],
     "prompt_number": 15
    },
    {
     "cell_type": "code",
     "collapsed": false,
     "input": [
      "!git push -u origin master"
     ],
     "language": "python",
     "metadata": {},
     "outputs": [
      {
       "output_type": "stream",
       "stream": "stdout",
       "text": [
        "Counting objects: 6, done.\r\n",
        "Delta compression using up to 8 threads.\r\n",
        "Compressing objects:  16% (1/6)   \r",
        "Compressing objects:  33% (2/6)   \r",
        "Compressing objects:  50% (3/6)   \r",
        "Compressing objects:  66% (4/6)   \r",
        "Compressing objects:  83% (5/6)   \r",
        "Compressing objects: 100% (6/6)   \r",
        "Compressing objects: 100% (6/6), done.\r\n",
        "Writing objects:  16% (1/6)   \r",
        "Writing objects:  33% (2/6)   \r",
        "Writing objects:  50% (3/6)   \r"
       ]
      },
      {
       "output_type": "stream",
       "stream": "stdout",
       "text": [
        "Writing objects:  66% (4/6)   \r",
        "Writing objects:  83% (5/6)   \r",
        "Writing objects: 100% (6/6)   \r",
        "Writing objects: 100% (6/6), 3.57 KiB | 0 bytes/s, done.\r\n",
        "Total 6 (delta 3), reused 0 (delta 0)\r\n"
       ]
      },
      {
       "output_type": "stream",
       "stream": "stdout",
       "text": [
        "To git@github.com:daniorerio/python_notebooks.git\r\n",
        "   6191b7c..a51e3e3  master -> master\r\n",
        "Branch master set up to track remote branch master from origin.\r\n"
       ]
      }
     ],
     "prompt_number": 5
    },
    {
     "cell_type": "code",
     "collapsed": false,
     "input": [
      "%cd ~/Documents/Canopy/python_notebooks\n",
      "!git add README.md\n",
      "!git add exercises/*\n",
      "!git add lessons/*\n",
      "!git commit -m \"Updating files\"\n",
      "!git push -u origin master"
     ],
     "language": "python",
     "metadata": {},
     "outputs": [
      {
       "output_type": "stream",
       "stream": "stdout",
       "text": [
        "/Users/draible1/Documents/Canopy/python_notebooks\n"
       ]
      },
      {
       "output_type": "stream",
       "stream": "stdout",
       "text": [
        "[master 2512bd8] Updating files\r\n",
        " 1 file changed, 496 insertions(+)\r\n",
        " create mode 100644 exercises/5. Exercises Answers.ipynb\r\n"
       ]
      },
      {
       "output_type": "stream",
       "stream": "stdout",
       "text": [
        "Counting objects: 3, done.\r\n",
        "Delta compression using up to 8 threads.\r\n",
        "Compressing objects:  33% (1/3)   \r",
        "Compressing objects:  66% (2/3)   \r",
        "Compressing objects: 100% (3/3)   \r",
        "Compressing objects: 100% (3/3), done.\r\n",
        "Writing objects:  33% (1/3)   \r",
        "Writing objects:  66% (2/3)   \r",
        "Writing objects: 100% (3/3)   \r",
        "Writing objects: 100% (3/3), 345 bytes | 0 bytes/s, done.\r\n",
        "Total 3 (delta 1), reused 0 (delta 0)\r\n"
       ]
      },
      {
       "output_type": "stream",
       "stream": "stdout",
       "text": [
        "To git@github.com:daniorerio/python_notebooks.git\r\n",
        "   a51e3e3..2512bd8  master -> master\r\n",
        "Branch master set up to track remote branch master from origin.\r\n"
       ]
      }
     ],
     "prompt_number": 12
    },
    {
     "cell_type": "code",
     "collapsed": false,
     "input": [
      "%cd ~/Documents/Canopy/python_notebooks"
     ],
     "language": "python",
     "metadata": {},
     "outputs": [
      {
       "output_type": "stream",
       "stream": "stdout",
       "text": [
        "/Users/draible1/Documents/Canopy/python_notebooks\n"
       ]
      }
     ],
     "prompt_number": 19
    },
    {
     "cell_type": "code",
     "collapsed": false,
     "input": [
      "%load README.md"
     ],
     "language": "python",
     "metadata": {},
     "outputs": [],
     "prompt_number": 20
    },
    {
     "cell_type": "code",
     "collapsed": false,
     "input": [
      "\n",
      "Notebooks to teach python"
     ],
     "language": "python",
     "metadata": {},
     "outputs": []
    },
    {
     "cell_type": "code",
     "collapsed": false,
     "input": [
      "!ls"
     ],
     "language": "python",
     "metadata": {},
     "outputs": [
      {
       "output_type": "stream",
       "stream": "stdout",
       "text": [
        "README.md \u001b[34mexercises\u001b[m\u001b[m \u001b[34mlessons\u001b[m\u001b[m\r\n"
       ]
      }
     ],
     "prompt_number": 6
    },
    {
     "cell_type": "code",
     "collapsed": false,
     "input": [
      "%cd exercises"
     ],
     "language": "python",
     "metadata": {},
     "outputs": [
      {
       "output_type": "stream",
       "stream": "stdout",
       "text": [
        "/Users/draible1/Documents/Canopy/python_notebooks/exercises\n"
       ]
      }
     ],
     "prompt_number": 7
    },
    {
     "cell_type": "code",
     "collapsed": false,
     "input": [
      "!ls"
     ],
     "language": "python",
     "metadata": {},
     "outputs": [
      {
       "output_type": "stream",
       "stream": "stdout",
       "text": [
        "1. Exercises Answers.ipynb     3. Exercises.ipynb\r\n",
        "1. Exercises.ipynb             4. Exercise Answers.ipynb\r\n",
        "2a. Exercises answers.ipynb    4. Exercises.ipynb\r\n",
        "2a. Exercises.ipynb            5. Exercises.ipynb\r\n",
        "2b. Exercises Answers.ipynb    Week 5 Exercises Answers.ipynb\r\n",
        "2b. Exercises.ipynb            \u001b[34mdata\u001b[m\u001b[m\r\n",
        "3. Exercises Answers.ipynb\r\n"
       ]
      }
     ],
     "prompt_number": 8
    },
    {
     "cell_type": "markdown",
     "metadata": {},
     "source": [
      "To update directory, including removing files:"
     ]
    },
    {
     "cell_type": "code",
     "collapsed": false,
     "input": [
      "%cd ~/Documents/Canopy/python_notebooks\n",
      "!git add . -A \n",
      "!git commit -m \"adding, updating, deleting files\"\n",
      "!git push -u origin master"
     ],
     "language": "python",
     "metadata": {},
     "outputs": [
      {
       "output_type": "stream",
       "stream": "stdout",
       "text": [
        "/Users/draible1/Documents/Canopy/python_notebooks\n"
       ]
      },
      {
       "output_type": "stream",
       "stream": "stdout",
       "text": [
        "On branch master\r\n",
        "Your branch is up-to-date with 'origin/master'.\r\n",
        "nothing to commit, working directory clean\r\n"
       ]
      },
      {
       "output_type": "stream",
       "stream": "stdout",
       "text": [
        "To git@github.com:daniorerio/python_notebooks.git\r\n",
        " ! [rejected]        master -> master (fetch first)\r\n",
        "error: failed to push some refs to 'git@github.com:daniorerio/python_notebooks.git'\r\n",
        "hint: Updates were rejected because the remote contains work that you do\r\n",
        "hint: not have locally. This is usually caused by another repository pushing\r\n",
        "hint: to the same ref. You may want to first integrate the remote changes\r\n",
        "hint: (e.g., 'git pull ...') before pushing again.\r\n",
        "hint: See the 'Note about fast-forwards' in 'git push --help' for details.\r\n"
       ]
      }
     ],
     "prompt_number": 16
    },
    {
     "cell_type": "code",
     "collapsed": false,
     "input": [
      "%cd ~/Documents/Canopy/python_notebooks\n",
      "!git commit -a -m \"updating, deleting files\"\n",
      "!git push -u origin master"
     ],
     "language": "python",
     "metadata": {},
     "outputs": [
      {
       "output_type": "stream",
       "stream": "stdout",
       "text": [
        "/Users/draible1/Documents/Canopy/python_notebooks\n",
        "On branch master\r\n",
        "Your branch is up-to-date with 'origin/master'.\r\n",
        "nothing to commit, working directory clean\r\n"
       ]
      },
      {
       "output_type": "stream",
       "stream": "stdout",
       "text": [
        "Branch master set up to track remote branch master from origin.\r\n",
        "Everything up-to-date\r\n"
       ]
      }
     ],
     "prompt_number": 14
    },
    {
     "cell_type": "code",
     "collapsed": false,
     "input": [
      "!git --version\n"
     ],
     "language": "python",
     "metadata": {},
     "outputs": [
      {
       "output_type": "stream",
       "stream": "stdout",
       "text": [
        "git version 2.6.0\r\n"
       ]
      }
     ],
     "prompt_number": 1
    },
    {
     "cell_type": "code",
     "collapsed": false,
     "input": [
      "%pwd"
     ],
     "language": "python",
     "metadata": {},
     "outputs": [
      {
       "metadata": {},
       "output_type": "pyout",
       "prompt_number": 1,
       "text": [
        "u'/Users/draible1/Documents/Canopy/Training'"
       ]
      }
     ],
     "prompt_number": 1
    },
    {
     "cell_type": "code",
     "collapsed": false,
     "input": [
      "%ls\n"
     ],
     "language": "python",
     "metadata": {},
     "outputs": [
      {
       "output_type": "stream",
       "stream": "stdout",
       "text": [
        "8c. Bokeh.ipynb                 fishes.txt\r\n",
        "9. revision control.ipynb       git.ipynb\r\n",
        "\u001b[34mExercises\u001b[m\u001b[m/                      \u001b[34mgit_test\u001b[m\u001b[m/\r\n",
        "Week 2 Exercises Answers.ipynb  scipy_lecture_sand.ipynb\r\n",
        "Week 2 Exercises.ipynb          test.html\r\n",
        "fishes.csv\r\n"
       ]
      }
     ],
     "prompt_number": 2
    },
    {
     "cell_type": "code",
     "collapsed": false,
     "input": [
      "%cd ~/Documents/Canopy/test_notebooks\n"
     ],
     "language": "python",
     "metadata": {},
     "outputs": [
      {
       "output_type": "stream",
       "stream": "stdout",
       "text": [
        "/Users/draible1/Documents/Canopy/test_notebooks\n"
       ]
      }
     ],
     "prompt_number": 4
    },
    {
     "cell_type": "code",
     "collapsed": false,
     "input": [
      "!git remote add origin git@github.com:daniorerio/test_notebooks.git\n",
      "!git push -u origin master"
     ],
     "language": "python",
     "metadata": {},
     "outputs": [
      {
       "output_type": "stream",
       "stream": "stdout",
       "text": [
        "fatal: Not a git repository (or any of the parent directories): .git\r\n"
       ]
      },
      {
       "output_type": "stream",
       "stream": "stdout",
       "text": [
        "fatal: Not a git repository (or any of the parent directories): .git\r\n"
       ]
      }
     ],
     "prompt_number": 5
    },
    {
     "cell_type": "code",
     "collapsed": false,
     "input": [
      "!git init\n",
      "!git add . -A \n",
      "!git commit -m \"adding, updating, deleting files\""
     ],
     "language": "python",
     "metadata": {},
     "outputs": [
      {
       "output_type": "stream",
       "stream": "stdout",
       "text": [
        "Initialized empty Git repository in /Users/draible1/Documents/Canopy/test_notebooks/.git/\r\n"
       ]
      },
      {
       "output_type": "stream",
       "stream": "stdout",
       "text": [
        "[master (root-commit) 3863032] adding, updating, deleting files\r\n",
        " 2 files changed, 3141 insertions(+)\r\n",
        " create mode 100644 9. revision control.ipynb\r\n",
        " create mode 100644 git.ipynb\r\n"
       ]
      }
     ],
     "prompt_number": 6
    },
    {
     "cell_type": "code",
     "collapsed": false,
     "input": [
      "!git remote add origin git@github.com:daniorerio/test_notebooks.git\n",
      "!git push -u origin master"
     ],
     "language": "python",
     "metadata": {},
     "outputs": [
      {
       "output_type": "stream",
       "stream": "stdout",
       "text": [
        "Counting objects: 4, done.\r\n",
        "Delta compression using up to 8 threads.\r\n",
        "Compressing objects:  25% (1/4)   \r",
        "Compressing objects:  50% (2/4)   \r",
        "Compressing objects:  75% (3/4)   \r",
        "Compressing objects: 100% (4/4)   \r",
        "Compressing objects: 100% (4/4), done.\r\n",
        "Writing objects:  25% (1/4)   \r",
        "Writing objects:  50% (2/4)   \r",
        "Writing objects: 100% (4/4)   \r",
        "Writing objects: 100% (4/4), 10.54 KiB | 0 bytes/s, done.\r\n",
        "Total 4 (delta 1), reused 0 (delta 0)\r\n"
       ]
      },
      {
       "output_type": "stream",
       "stream": "stdout",
       "text": [
        "To git@github.com:daniorerio/test_notebooks.git\r\n",
        " * [new branch]      master -> master\r\n",
        "Branch master set up to track remote branch master from origin.\r\n"
       ]
      }
     ],
     "prompt_number": 7
    },
    {
     "cell_type": "code",
     "collapsed": false,
     "input": [
      "%cd ~/Documents/Canopy/test_notebooks\n",
      "!git add . -A \n",
      "!git commit -m \"adding, updating, deleting files\"\n",
      "!git push -u origin master"
     ],
     "language": "python",
     "metadata": {},
     "outputs": [
      {
       "output_type": "stream",
       "stream": "stdout",
       "text": [
        "/Users/draible1/Documents/Canopy/test_notebooks\n"
       ]
      },
      {
       "output_type": "stream",
       "stream": "stdout",
       "text": [
        "[master 879a334] adding, updating, deleting files\r\n",
        " 2 files changed, 97 insertions(+), 44 deletions(-)\r\n"
       ]
      },
      {
       "output_type": "stream",
       "stream": "stdout",
       "text": [
        "To https://github.com/daniorerio/test_notebooks\r\n",
        " ! [rejected]        master -> master (fetch first)\r\n",
        "error: failed to push some refs to 'https://github.com/daniorerio/test_notebooks'\r\n",
        "hint: Updates were rejected because the remote contains work that you do\r\n",
        "hint: not have locally. This is usually caused by another repository pushing\r\n",
        "hint: to the same ref. You may want to first integrate the remote changes\r\n",
        "hint: (e.g., 'git pull ...') before pushing again.\r\n",
        "hint: See the 'Note about fast-forwards' in 'git push --help' for details.\r\n"
       ]
      }
     ],
     "prompt_number": 9
    },
    {
     "cell_type": "code",
     "collapsed": false,
     "input": [
      "%cd ~/Documents/Canopy/test_notebooks\n",
      "!git pull"
     ],
     "language": "python",
     "metadata": {},
     "outputs": [
      {
       "output_type": "stream",
       "stream": "stdout",
       "text": [
        "/Users/draible1/Documents/Canopy/test_notebooks\n"
       ]
      },
      {
       "output_type": "stream",
       "stream": "stdout",
       "text": [
        "Already up-to-date.\r\n"
       ]
      }
     ],
     "prompt_number": 1
    },
    {
     "cell_type": "code",
     "collapsed": false,
     "input": [
      "%cd ~/Documents/Canopy/python_notebooks\n",
      "!git pull"
     ],
     "language": "python",
     "metadata": {},
     "outputs": [
      {
       "output_type": "stream",
       "stream": "stdout",
       "text": [
        "/Users/draible1/Documents/Canopy/python_notebooks\n"
       ]
      },
      {
       "output_type": "stream",
       "stream": "stdout",
       "text": [
        "Already up-to-date.\r\n"
       ]
      }
     ],
     "prompt_number": 10
    },
    {
     "cell_type": "code",
     "collapsed": false,
     "input": [
      "%%bash\n",
      "cd ~/python_class/python_notebooks\n",
      "git pull"
     ],
     "language": "python",
     "metadata": {},
     "outputs": [
      {
       "output_type": "stream",
       "stream": "stdout",
       "text": [
        "Already up-to-date.\n"
       ]
      }
     ],
     "prompt_number": 15
    },
    {
     "cell_type": "code",
     "collapsed": false,
     "input": [],
     "language": "python",
     "metadata": {},
     "outputs": []
    }
   ],
   "metadata": {}
  }
 ]
}