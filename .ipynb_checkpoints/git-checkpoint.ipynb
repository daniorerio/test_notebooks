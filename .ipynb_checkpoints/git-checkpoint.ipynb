{
 "cells": [
  {
   "cell_type": "code",
   "execution_count": 1,
   "metadata": {
    "collapsed": false
   },
   "outputs": [
    {
     "name": "stdout",
     "output_type": "stream",
     "text": [
      "/Users/draible1\n",
      "mkdir: git_test: File exists\n",
      "/Users/draible1/git_test\n"
     ]
    }
   ],
   "source": [
    "%cd ~\n",
    "%mkdir git_test\n",
    "%cd git_test"
   ]
  },
  {
   "cell_type": "code",
   "execution_count": 2,
   "metadata": {
    "collapsed": false
   },
   "outputs": [
    {
     "name": "stdout",
     "output_type": "stream",
     "text": [
      "Reinitialized existing Git repository in /Users/draible1/git_test/.git/\r\n"
     ]
    }
   ],
   "source": [
    "!git init"
   ]
  },
  {
   "cell_type": "code",
   "execution_count": 3,
   "metadata": {
    "collapsed": false
   },
   "outputs": [
    {
     "name": "stdout",
     "output_type": "stream",
     "text": [
      "On branch master\r\n",
      "Untracked files:\r\n",
      "  (use \"git add <file>...\" to include in what will be committed)\r\n",
      "\r\n",
      "\t\u001b[31mipython/\u001b[m\r\n",
      "\r\n",
      "nothing added to commit but untracked files present (use \"git add\" to track)\r\n"
     ]
    }
   ],
   "source": [
    "!git status"
   ]
  },
  {
   "cell_type": "code",
   "execution_count": 4,
   "metadata": {
    "collapsed": false
   },
   "outputs": [
    {
     "name": "stdout",
     "output_type": "stream",
     "text": [
      "Overwriting README\n"
     ]
    }
   ],
   "source": [
    "%%file README\n",
    "\n",
    "A file with information about the gitdemo repository."
   ]
  },
  {
   "cell_type": "code",
   "execution_count": 5,
   "metadata": {
    "collapsed": false
   },
   "outputs": [
    {
     "name": "stdout",
     "output_type": "stream",
     "text": [
      "On branch master\r\n",
      "Changes not staged for commit:\r\n",
      "  (use \"git add <file>...\" to update what will be committed)\r\n",
      "  (use \"git checkout -- <file>...\" to discard changes in working directory)\r\n",
      "\r\n",
      "\t\u001b[31mmodified:   README\u001b[m\r\n",
      "\r\n",
      "Untracked files:\r\n",
      "  (use \"git add <file>...\" to include in what will be committed)\r\n",
      "\r\n",
      "\t\u001b[31mipython/\u001b[m\r\n",
      "\r\n",
      "no changes added to commit (use \"git add\" and/or \"git commit -a\")\r\n"
     ]
    }
   ],
   "source": [
    "!git status"
   ]
  },
  {
   "cell_type": "code",
   "execution_count": 6,
   "metadata": {
    "collapsed": false
   },
   "outputs": [],
   "source": [
    "!git add README"
   ]
  },
  {
   "cell_type": "code",
   "execution_count": 7,
   "metadata": {
    "collapsed": false
   },
   "outputs": [
    {
     "name": "stdout",
     "output_type": "stream",
     "text": [
      "On branch master\r\n",
      "Changes to be committed:\r\n",
      "  (use \"git reset HEAD <file>...\" to unstage)\r\n",
      "\r\n",
      "\t\u001b[32mmodified:   README\u001b[m\r\n",
      "\r\n",
      "Untracked files:\r\n",
      "  (use \"git add <file>...\" to include in what will be committed)\r\n",
      "\r\n",
      "\t\u001b[31mipython/\u001b[m\r\n",
      "\r\n"
     ]
    }
   ],
   "source": [
    "!git status"
   ]
  },
  {
   "cell_type": "code",
   "execution_count": 8,
   "metadata": {
    "collapsed": false
   },
   "outputs": [
    {
     "name": "stdout",
     "output_type": "stream",
     "text": [
      "[master aa8e1c4] Added a README file\r\n",
      " 1 file changed, 1 insertion(+), 3 deletions(-)\r\n"
     ]
    }
   ],
   "source": [
    "!git commit -m \"Added a README file\" README"
   ]
  },
  {
   "cell_type": "code",
   "execution_count": 9,
   "metadata": {
    "collapsed": false
   },
   "outputs": [
    {
     "name": "stdout",
     "output_type": "stream",
     "text": [
      "Overwriting README\n"
     ]
    }
   ],
   "source": [
    "%%file README\n",
    "\n",
    "A file with information about the gitdemo repository.\n",
    "\n",
    "A new line."
   ]
  },
  {
   "cell_type": "code",
   "execution_count": 10,
   "metadata": {
    "collapsed": false
   },
   "outputs": [
    {
     "name": "stdout",
     "output_type": "stream",
     "text": [
      "On branch master\r\n",
      "Changes not staged for commit:\r\n",
      "  (use \"git add <file>...\" to update what will be committed)\r\n",
      "  (use \"git checkout -- <file>...\" to discard changes in working directory)\r\n",
      "\r\n",
      "\t\u001b[31mmodified:   README\u001b[m\r\n",
      "\r\n",
      "Untracked files:\r\n",
      "  (use \"git add <file>...\" to include in what will be committed)\r\n",
      "\r\n",
      "\t\u001b[31mipython/\u001b[m\r\n",
      "\r\n",
      "no changes added to commit (use \"git add\" and/or \"git commit -a\")\r\n"
     ]
    }
   ],
   "source": [
    "!git status"
   ]
  },
  {
   "cell_type": "code",
   "execution_count": 11,
   "metadata": {
    "collapsed": false
   },
   "outputs": [
    {
     "name": "stdout",
     "output_type": "stream",
     "text": [
      "[master fec2c5a] added one more line in README\r\n",
      " 1 file changed, 3 insertions(+), 1 deletion(-)\r\n"
     ]
    }
   ],
   "source": [
    "!git commit -m \"added one more line in README\" README"
   ]
  },
  {
   "cell_type": "code",
   "execution_count": null,
   "metadata": {
    "collapsed": false
   },
   "outputs": [],
   "source": [
    "%%file tmpfile\n",
    "\n",
    "A short-lived file."
   ]
  },
  {
   "cell_type": "code",
   "execution_count": null,
   "metadata": {
    "collapsed": false
   },
   "outputs": [],
   "source": [
    "!git add tmpfile\n",
    "!git commit -m \"adding file tmpfile\" tmpfile "
   ]
  },
  {
   "cell_type": "code",
   "execution_count": null,
   "metadata": {
    "collapsed": false
   },
   "outputs": [],
   "source": [
    "!git rm tmpfile\n",
    "!git commit -m \"remove file tmpfile\" tmpfile "
   ]
  },
  {
   "cell_type": "code",
   "execution_count": null,
   "metadata": {
    "collapsed": false
   },
   "outputs": [],
   "source": [
    "!git log"
   ]
  },
  {
   "cell_type": "code",
   "execution_count": null,
   "metadata": {
    "collapsed": false
   },
   "outputs": [],
   "source": [
    "%%file README\n",
    "\n",
    "A file with information about the gitdemo repository.\n",
    "\n",
    "README files usually contains installation instructions, and information about how to get started using the software (for example)."
   ]
  },
  {
   "cell_type": "code",
   "execution_count": null,
   "metadata": {
    "collapsed": false
   },
   "outputs": [],
   "source": [
    "!git diff README"
   ]
  },
  {
   "cell_type": "code",
   "execution_count": null,
   "metadata": {
    "collapsed": false
   },
   "outputs": [],
   "source": [
    "!git checkout -- README\n",
    "!git status"
   ]
  },
  {
   "cell_type": "code",
   "execution_count": null,
   "metadata": {
    "collapsed": false
   },
   "outputs": [],
   "source": [
    "!git log"
   ]
  },
  {
   "cell_type": "code",
   "execution_count": 12,
   "metadata": {
    "collapsed": false
   },
   "outputs": [
    {
     "name": "stdout",
     "output_type": "stream",
     "text": [
      "fatal: remote origin already exists.\r\n"
     ]
    }
   ],
   "source": [
    "!git remote add origin https://github.com/daniorerio/git_test.git"
   ]
  },
  {
   "cell_type": "code",
   "execution_count": 13,
   "metadata": {
    "collapsed": false
   },
   "outputs": [
    {
     "name": "stdout",
     "output_type": "stream",
     "text": [
      "origin\r\n"
     ]
    }
   ],
   "source": [
    "!git remote"
   ]
  },
  {
   "cell_type": "code",
   "execution_count": 14,
   "metadata": {
    "collapsed": false
   },
   "outputs": [
    {
     "name": "stdout",
     "output_type": "stream",
     "text": [
      "* remote origin\r\n",
      "  Fetch URL: https://github.com/daniorerio/git_test.git\r\n",
      "  Push  URL: https://github.com/daniorerio/git_test.git\r\n",
      "  HEAD branch: (unknown)\r\n"
     ]
    }
   ],
   "source": [
    "!git remote show origin"
   ]
  },
  {
   "cell_type": "code",
   "execution_count": 15,
   "metadata": {
    "collapsed": false
   },
   "outputs": [
    {
     "name": "stdout",
     "output_type": "stream",
     "text": [
      "warning: push.default is unset; its implicit value is changing in\n",
      "Git 2.0 from 'matching' to 'simple'. To squelch this message\n",
      "and maintain the current behavior after the default changes, use:\n",
      "\n",
      "  git config --global push.default matching\n",
      "\n",
      "To squelch this message and adopt the new behavior now, use:\n",
      "\n",
      "  git config --global push.default simple\n",
      "\n",
      "When push.default is set to 'matching', git will push local branches\n",
      "to the remote branches that already exist with the same name.\n",
      "\n",
      "In Git 2.0, Git will default to the more conservative 'simple'\n",
      "behavior, which only pushes the current branch to the corresponding\n",
      "remote branch that 'git pull' uses to update the current branch.\n",
      "\n",
      "See 'git help config' and search for 'push.default' for further information.\n",
      "(the 'simple' mode was introduced in Git 1.7.11. Use the similar mode\n",
      "'current' instead of 'simple' if you sometimes use older versions of Git)\n",
      "\n",
      "No refs in common and none specified; doing nothing.\n",
      "Perhaps you should specify a branch such as 'master'.\n",
      "Everything up-to-date\n"
     ]
    }
   ],
   "source": [
    "!git push"
   ]
  },
  {
   "cell_type": "code",
   "execution_count": null,
   "metadata": {
    "collapsed": false
   },
   "outputs": [],
   "source": [
    "daniorerio"
   ]
  },
  {
   "cell_type": "code",
   "execution_count": null,
   "metadata": {
    "collapsed": false
   },
   "outputs": [],
   "source": [
    "project_name = \"ipython\"\n",
    "project_remote = \"git://github.com/ipython/ipython.git\"\n",
    "project_remote_name = \"origin\"\n",
    "my_fork_remote = \"git@github.com:daniorerio/ipython.git\"\n",
    "my_fork_remote_name = \"daniorerio\""
   ]
  },
  {
   "cell_type": "code",
   "execution_count": null,
   "metadata": {
    "collapsed": false
   },
   "outputs": [],
   "source": [
    "# Get a read-only copy of the project\n",
    "!git clone $project_remote\n",
    "\n",
    "# cd into the local project folder\n",
    "%cd $project_name\n",
    "\n",
    "# Link the local repo with my Github fork\n",
    "!git remote add $my_fork_remote_name $my_fork_remote\n",
    "\n",
    "# Check remotes\n",
    "!git remote -v"
   ]
  },
  {
   "cell_type": "code",
   "execution_count": 16,
   "metadata": {
    "collapsed": false
   },
   "outputs": [],
   "source": [
    "master_branch = \"master\"\n",
    "feature_branch = \"doc_post_serve\""
   ]
  },
  {
   "cell_type": "code",
   "execution_count": 17,
   "metadata": {
    "collapsed": false
   },
   "outputs": [
    {
     "name": "stdout",
     "output_type": "stream",
     "text": [
      "Already on 'master'\n",
      "There is no tracking information for the current branch.\n",
      "Please specify which branch you want to merge with.\n",
      "See git-pull(1) for details\n",
      "\n",
      "    git pull <remote> <branch>\n",
      "\n",
      "If you wish to set tracking information for this branch you can do so with:\n",
      "\n",
      "    git branch --set-upstream-to=origin/<branch> master\n",
      "\n",
      "Switched to a new branch 'doc_post_serve'\n",
      "On branch doc_post_serve\n",
      "Untracked files:\n",
      "  (use \"git add <file>...\" to include in what will be committed)\n",
      "\n",
      "\t\u001b[31mipython/\u001b[m\n",
      "\n",
      "nothing added to commit but untracked files present (use \"git add\" to track)\n"
     ]
    }
   ],
   "source": [
    "# Make sure we are in master branch\n",
    "!git checkout $master_branch\n",
    "\n",
    "# Pull the changes from origin/master\n",
    "!git pull $project_remote_name\n",
    "\n",
    "# Start a new branch to work on\n",
    "!git checkout -b $feature_branch\n",
    "\n",
    "# Check where we are\n",
    "!git status"
   ]
  },
  {
   "cell_type": "code",
   "execution_count": null,
   "metadata": {
    "collapsed": false
   },
   "outputs": [],
   "source": [
    "%ls\n"
   ]
  },
  {
   "cell_type": "code",
   "execution_count": null,
   "metadata": {
    "collapsed": false
   },
   "outputs": [],
   "source": [
    "%load docs/source/interactive/nbconvert.rst"
   ]
  },
  {
   "cell_type": "code",
   "execution_count": null,
   "metadata": {
    "collapsed": false
   },
   "outputs": [],
   "source": [
    "!git status"
   ]
  },
  {
   "cell_type": "code",
   "execution_count": null,
   "metadata": {
    "collapsed": false
   },
   "outputs": [],
   "source": [
    "%load README.rst"
   ]
  },
  {
   "cell_type": "code",
   "execution_count": null,
   "metadata": {
    "collapsed": false
   },
   "outputs": [],
   "source": [
    "%%writefile README.rst\n",
    "\n",
    ".. image:: https://img.shields.io/coveralls/ipython/ipython.svg \n",
    "    :target: https://coveralls.io/r/ipython/ipython?branch=master\n",
    "\n",
    ".. image:: https://img.shields.io/pypi/dm/IPython.svg           \n",
    "    :target: https://pypi.python.org/pypi/ipython\n",
    "\n",
    ".. image:: https://img.shields.io/pypi/v/IPython.svg            \n",
    "    :target: https://pypi.python.org/pypi/ipython\n",
    "\n",
    ".. image:: https://img.shields.io/travis/ipython/ipython.svg    \n",
    "    :target: https://travis-ci.org/ipython/ipython\n",
    "\n",
    "\n",
    "===========================================\n",
    " IPython: Productive Interactive Computing\n",
    "===========================================\n",
    "\n",
    "Overview\n",
    "========\n",
    "\n",
    "Welcome to IPython.  Our full documentation is available on `our website\n",
    "<http://ipython.org/documentation.html>`_; if you downloaded a built source\n",
    "distribution the ``docs/source`` directory contains the plaintext version of\n",
    "these manuals.  If you have Sphinx installed, you can build them by typing\n",
    "``cd docs; make html`` for local browsing.\n",
    "\n",
    "\n",
    "See the `install page <http://ipython.org/install.html>`__ to install IPython.\n",
    "\n",
    "The Notebook, Qt console and a number of other pieces are now parts of *Jupyter*.\n",
    "See the `Jupyter installation docs <http://jupyter.readthedocs.org/en/latest/install.html>`__\n",
    "if you want to use these.\n",
    "\n",
    "Officially, IPython requires Python version 2.7, or 3.3 and above.\n",
    "IPython 1.x is the last IPython version to support Python 2.6 and 3.2.\n",
    "\n",
    "\n",
    "\n",
    "Instant running\n",
    "===============\n",
    "\n",
    "You can run IPython from this directory without even installing it system-wide\n",
    "by typing at the terminal::\n",
    "\n",
    "   $ python -m IPython\n",
    "\n"
   ]
  },
  {
   "cell_type": "code",
   "execution_count": null,
   "metadata": {
    "collapsed": false
   },
   "outputs": [],
   "source": [
    "!git status"
   ]
  },
  {
   "cell_type": "code",
   "execution_count": null,
   "metadata": {
    "collapsed": false
   },
   "outputs": [],
   "source": [
    "!git diff"
   ]
  },
  {
   "cell_type": "code",
   "execution_count": null,
   "metadata": {
    "collapsed": false
   },
   "outputs": [],
   "source": [
    "!git add ."
   ]
  },
  {
   "cell_type": "code",
   "execution_count": null,
   "metadata": {
    "collapsed": false
   },
   "outputs": [],
   "source": [
    "!git commit -am \"Added return to the README doc.\""
   ]
  },
  {
   "cell_type": "code",
   "execution_count": 18,
   "metadata": {
    "collapsed": false
   },
   "outputs": [
    {
     "name": "stdout",
     "output_type": "stream",
     "text": [
      "warning: push.default is unset; its implicit value is changing in\n",
      "Git 2.0 from 'matching' to 'simple'. To squelch this message\n",
      "and maintain the current behavior after the default changes, use:\n",
      "\n",
      "  git config --global push.default matching\n",
      "\n",
      "To squelch this message and adopt the new behavior now, use:\n",
      "\n",
      "  git config --global push.default simple\n",
      "\n",
      "When push.default is set to 'matching', git will push local branches\n",
      "to the remote branches that already exist with the same name.\n",
      "\n",
      "In Git 2.0, Git will default to the more conservative 'simple'\n",
      "behavior, which only pushes the current branch to the corresponding\n",
      "remote branch that 'git pull' uses to update the current branch.\n",
      "\n",
      "See 'git help config' and search for 'push.default' for further information.\n",
      "(the 'simple' mode was introduced in Git 1.7.11. Use the similar mode\n",
      "'current' instead of 'simple' if you sometimes use older versions of Git)\n",
      "\n",
      "No refs in common and none specified; doing nothing.\n",
      "Perhaps you should specify a branch such as 'master'.\n",
      "Everything up-to-date\n"
     ]
    }
   ],
   "source": [
    "!git push $my_fork_remote_name $feature_branch"
   ]
  },
  {
   "cell_type": "code",
   "execution_count": 19,
   "metadata": {
    "collapsed": false
   },
   "outputs": [
    {
     "name": "stdout",
     "output_type": "stream",
     "text": [
      "origin\r\n"
     ]
    }
   ],
   "source": [
    "!git remote\n"
   ]
  },
  {
   "cell_type": "code",
   "execution_count": 20,
   "metadata": {
    "collapsed": false
   },
   "outputs": [
    {
     "name": "stdout",
     "output_type": "stream",
     "text": [
      "Reinitialized existing Git repository in /Users/draible1/git_test/.git/\n",
      "[doc_post_serve b7c8e2b] first commit\n",
      " 1 file changed, 1 insertion(+)\n",
      " create mode 100644 README.md\n",
      "Branch master set up to track remote branch master from origin.\n"
     ]
    },
    {
     "name": "stderr",
     "output_type": "stream",
     "text": [
      "fatal: remote origin already exists.\n",
      "To https://github.com/daniorerio/git_test.git\n",
      " * [new branch]      master -> master\n"
     ]
    }
   ],
   "source": [
    "%%bash\n",
    "echo \"# git_test\" >> README.md\n",
    "git init\n",
    "git add README.md\n",
    "git commit -m \"first commit\"\n",
    "git remote add origin git@github.com:daniorerio/git_test.git\n",
    "git push -u origin master"
   ]
  },
  {
   "cell_type": "code",
   "execution_count": 21,
   "metadata": {
    "collapsed": false
   },
   "outputs": [
    {
     "name": "stdout",
     "output_type": "stream",
     "text": [
      "Reinitialized existing Git repository in /Users/draible1/git_test/.git/\n",
      "[doc_post_serve 885e857] first commit\n",
      " 1 file changed, 1 insertion(+)\n",
      "Branch master set up to track remote branch master from origin.\n"
     ]
    },
    {
     "name": "stderr",
     "output_type": "stream",
     "text": [
      "fatal: remote origin already exists.\n",
      "Everything up-to-date\n"
     ]
    }
   ],
   "source": [
    "%%bash\n",
    "echo \"# git_test2\" >> README.md\n",
    "git init\n",
    "git add README.md\n",
    "git commit -m \"first commit\"\n",
    "git remote add origin git@github.com:daniorerio/git_test2.git\n",
    "git push -u origin master"
   ]
  },
  {
   "cell_type": "code",
   "execution_count": 22,
   "metadata": {
    "collapsed": false
   },
   "outputs": [
    {
     "name": "stdout",
     "output_type": "stream",
     "text": [
      "/Users/draible1\n",
      "/Users/draible1/git_test2\n"
     ]
    }
   ],
   "source": [
    "%cd ~\n",
    "%mkdir git_test2\n",
    "%cd git_test2"
   ]
  },
  {
   "cell_type": "code",
   "execution_count": 23,
   "metadata": {
    "collapsed": false
   },
   "outputs": [
    {
     "name": "stdout",
     "output_type": "stream",
     "text": [
      "Initialized empty Git repository in /Users/draible1/git_test2/.git/\n",
      "[master (root-commit) 13f51c6] first commit\n",
      " 1 file changed, 1 insertion(+)\n",
      " create mode 100644 README.md\n",
      "Branch master set up to track remote branch master from origin.\n"
     ]
    },
    {
     "name": "stderr",
     "output_type": "stream",
     "text": [
      "Identity added: /Users/draible1/.ssh/id_rsa (/Users/draible1/.ssh/id_rsa)\n",
      "To git@github.com:daniorerio/git_test2.git\n",
      " * [new branch]      master -> master\n"
     ]
    }
   ],
   "source": [
    "%%bash\n",
    "echo \"# git_test2\" >> README.md\n",
    "git init\n",
    "git add README.md\n",
    "git commit -m \"first commit\"\n",
    "git remote add origin git@github.com:daniorerio/git_test2.git\n",
    "git push -u origin master"
   ]
  },
  {
   "cell_type": "code",
   "execution_count": 24,
   "metadata": {
    "collapsed": false
   },
   "outputs": [
    {
     "name": "stdout",
     "output_type": "stream",
     "text": [
      "* remote origin\r\n",
      "  Fetch URL: git@github.com:daniorerio/git_test2.git\r\n",
      "  Push  URL: git@github.com:daniorerio/git_test2.git\r\n",
      "  HEAD branch: master\r\n",
      "  Remote branch:\r\n",
      "    master tracked\r\n",
      "  Local branch configured for 'git pull':\r\n",
      "    master merges with remote master\r\n",
      "  Local ref configured for 'git push':\r\n",
      "    master pushes to master (up to date)\r\n"
     ]
    }
   ],
   "source": [
    "!git remote show origin"
   ]
  },
  {
   "cell_type": "code",
   "execution_count": 25,
   "metadata": {
    "collapsed": false
   },
   "outputs": [
    {
     "name": "stdout",
     "output_type": "stream",
     "text": [
      "Writing README\n"
     ]
    }
   ],
   "source": [
    "%%file README\n",
    "\n",
    "A file for testing connections between GitHub using IPython Notboook."
   ]
  },
  {
   "cell_type": "code",
   "execution_count": 26,
   "metadata": {
    "collapsed": false
   },
   "outputs": [
    {
     "name": "stdout",
     "output_type": "stream",
     "text": [
      "On branch master\r\n",
      "Your branch is up-to-date with 'origin/master'.\r\n",
      "\r\n",
      "Changes to be committed:\r\n",
      "  (use \"git reset HEAD <file>...\" to unstage)\r\n",
      "\r\n",
      "\t\u001b[32mnew file:   README\u001b[m\r\n",
      "\r\n"
     ]
    }
   ],
   "source": [
    "!git add README\n",
    "!git status"
   ]
  },
  {
   "cell_type": "code",
   "execution_count": 27,
   "metadata": {
    "collapsed": false
   },
   "outputs": [
    {
     "name": "stdout",
     "output_type": "stream",
     "text": [
      "[master 6176284] Changed README file\r\n",
      " 1 file changed, 2 insertions(+)\r\n",
      " create mode 100644 README\r\n"
     ]
    }
   ],
   "source": [
    "!git commit -m \"Changed README file\" README"
   ]
  },
  {
   "cell_type": "code",
   "execution_count": 28,
   "metadata": {
    "collapsed": false
   },
   "outputs": [
    {
     "name": "stdout",
     "output_type": "stream",
     "text": [
      "warning: push.default is unset; its implicit value is changing in\n",
      "Git 2.0 from 'matching' to 'simple'. To squelch this message\n",
      "and maintain the current behavior after the default changes, use:\n",
      "\n",
      "  git config --global push.default matching\n",
      "\n",
      "To squelch this message and adopt the new behavior now, use:\n",
      "\n",
      "  git config --global push.default simple\n",
      "\n",
      "When push.default is set to 'matching', git will push local branches\n",
      "to the remote branches that already exist with the same name.\n",
      "\n",
      "In Git 2.0, Git will default to the more conservative 'simple'\n",
      "behavior, which only pushes the current branch to the corresponding\n",
      "remote branch that 'git pull' uses to update the current branch.\n",
      "\n",
      "See 'git help config' and search for 'push.default' for further information.\n",
      "(the 'simple' mode was introduced in Git 1.7.11. Use the similar mode\n",
      "'current' instead of 'simple' if you sometimes use older versions of Git)\n",
      "\n",
      "Counting objects: 4, done.\n",
      "Delta compression using up to 8 threads.\n",
      "Compressing objects: 100% (3/3), done.\n",
      "Writing objects: 100% (3/3), 343 bytes | 0 bytes/s, done.\n",
      "Total 3 (delta 0), reused 0 (delta 0)\n",
      "To git@github.com:daniorerio/git_test2.git\n",
      "   13f51c6..6176284  master -> master\n"
     ]
    }
   ],
   "source": [
    "!git push"
   ]
  },
  {
   "cell_type": "code",
   "execution_count": 29,
   "metadata": {
    "collapsed": false
   },
   "outputs": [],
   "source": [
    "!git config --global push.default simple"
   ]
  },
  {
   "cell_type": "code",
   "execution_count": 30,
   "metadata": {
    "collapsed": false
   },
   "outputs": [
    {
     "name": "stdout",
     "output_type": "stream",
     "text": [
      "Overwriting README\n"
     ]
    }
   ],
   "source": [
    "%%file README\n",
    "\n",
    "A file for testing connections between GitHub using IPython Notboook.\n",
    "A new line."
   ]
  },
  {
   "cell_type": "code",
   "execution_count": 31,
   "metadata": {
    "collapsed": false
   },
   "outputs": [
    {
     "name": "stdout",
     "output_type": "stream",
     "text": [
      "On branch master\r\n",
      "Your branch is up-to-date with 'origin/master'.\r\n",
      "\r\n",
      "Changes to be committed:\r\n",
      "  (use \"git reset HEAD <file>...\" to unstage)\r\n",
      "\r\n",
      "\t\u001b[32mmodified:   README\u001b[m\r\n",
      "\r\n"
     ]
    }
   ],
   "source": [
    "!git add README\n",
    "!git status"
   ]
  },
  {
   "cell_type": "code",
   "execution_count": 32,
   "metadata": {
    "collapsed": false
   },
   "outputs": [
    {
     "name": "stdout",
     "output_type": "stream",
     "text": [
      "[master df4bb0d] Changed README file\r\n",
      " 1 file changed, 2 insertions(+), 1 deletion(-)\r\n"
     ]
    }
   ],
   "source": [
    "!git commit -m \"Changed README file\" README"
   ]
  },
  {
   "cell_type": "code",
   "execution_count": 33,
   "metadata": {
    "collapsed": false
   },
   "outputs": [
    {
     "name": "stdout",
     "output_type": "stream",
     "text": [
      "Warning: Permanently added the RSA host key for IP address '192.30.252.129' to the list of known hosts.\n",
      "Counting objects: 5, done.\n",
      "Delta compression using up to 8 threads.\n",
      "Compressing objects: 100% (3/3), done.\n",
      "Writing objects: 100% (3/3), 312 bytes | 0 bytes/s, done.\n",
      "Total 3 (delta 1), reused 0 (delta 0)\n",
      "To git@github.com:daniorerio/git_test2.git\n",
      "   6176284..df4bb0d  master -> master\n"
     ]
    }
   ],
   "source": [
    "!git push"
   ]
  },
  {
   "cell_type": "code",
   "execution_count": 1,
   "metadata": {
    "collapsed": false
   },
   "outputs": [
    {
     "name": "stdout",
     "output_type": "stream",
     "text": [
      "git version 2.5.1\n"
     ]
    }
   ],
   "source": [
    "%%bash\n",
    "git --version"
   ]
  },
  {
   "cell_type": "code",
   "execution_count": 3,
   "metadata": {
    "collapsed": false
   },
   "outputs": [
    {
     "name": "stdout",
     "output_type": "stream",
     "text": [
      "usage: git [--version] [--exec-path[=<path>]] [--html-path] [--man-path] [--info-path]\r\n",
      "           [-p|--paginate|--no-pager] [--no-replace-objects] [--bare]\r\n",
      "           [--git-dir=<path>] [--work-tree=<path>] [--namespace=<name>]\r\n",
      "           [-c name=value] [--help]\r\n",
      "           <command> [<args>]\r\n",
      "\r\n",
      "Basic Commands:\r\n",
      "   init       Create an empty git repository or reinitialize an existing one\r\n",
      "   add        Add new or modified files to the staging area\r\n",
      "   rm         Remove files from the working directory and staging area\r\n",
      "   mv         Move or rename a file, a directory, or a symlink\r\n",
      "   status     Show the status of the working directory and staging area\r\n",
      "   commit     Record changes to the repository\r\n",
      "\r\n",
      "History Commands:\r\n",
      "   log        Show the commit history log\r\n",
      "   diff       Show changes between commits, commit and working tree, etc\r\n",
      "   show       Show information about commits, tags or files\r\n",
      "\r\n",
      "Branching Commands:\r\n",
      "   branch     List, create, or delete branches\r\n",
      "   checkout   Switch the active branch to another branch\r\n",
      "   merge      Join two or more development histories (branches) together\r\n",
      "   tag        Create, list, delete, sign or verify a tag object\r\n",
      "\r\n",
      "Remote Commands:\r\n",
      "   clone      Clone a remote repository into a new directory\r\n",
      "   fetch      Download data, tags and branches from a remote repository\r\n",
      "   pull       Fetch from and merge with another repository or a local branch\r\n",
      "   push       Upload data, tags and branches to a remote repository\r\n",
      "   remote     View and manage a set of remote repositories\r\n",
      "\r\n",
      "Advanced Commands:\r\n",
      "   reset      Reset your staging area or working directory to another point\r\n",
      "   rebase     Re-apply a series of patches in one branch onto another\r\n",
      "   bisect     Find by binary search the change that introduced a bug\r\n",
      "   grep       Print files with lines matching a pattern in your codebase\r\n",
      "\r\n",
      "GitHub Commands:\r\n",
      "   pull-request   Open a pull request on GitHub\r\n",
      "   fork           Make a fork of a remote repository on GitHub and add as remote\r\n",
      "   create         Create this repository on GitHub and add GitHub as origin\r\n",
      "   browse         Open a GitHub page in the default browser\r\n",
      "   compare        Open a compare page on GitHub\r\n",
      "   release        List or create releases (beta)\r\n",
      "   issue          List or create issues (beta)\r\n",
      "   ci-status      Show the CI status of a commit\r\n",
      "\r\n",
      "See 'git help <command>' for more information on a specific command.\r\n"
     ]
    }
   ],
   "source": [
    "!hub --noop"
   ]
  },
  {
   "cell_type": "code",
   "execution_count": 1,
   "metadata": {
    "collapsed": false
   },
   "outputs": [],
   "source": [
    "%load_ext pypath_magic"
   ]
  },
  {
   "cell_type": "code",
   "execution_count": 2,
   "metadata": {
    "collapsed": false
   },
   "outputs": [
    {
     "name": "stdout",
     "output_type": "stream",
     "text": [
      "No user paths are defined.\n",
      "See `%pypath?` for usage information.\n"
     ]
    }
   ],
   "source": [
    "%pypath"
   ]
  },
  {
   "cell_type": "code",
   "execution_count": 1,
   "metadata": {
    "collapsed": false
   },
   "outputs": [
    {
     "name": "stdout",
     "output_type": "stream",
     "text": [
      "/Users/draible1/Documents/Canopy/python_notebooks\n"
     ]
    }
   ],
   "source": [
    "%cd ~/Documents/Canopy/python_notebooks"
   ]
  },
  {
   "cell_type": "code",
   "execution_count": 2,
   "metadata": {
    "collapsed": false
   },
   "outputs": [
    {
     "name": "stdout",
     "output_type": "stream",
     "text": [
      "Initialized empty Git repository in /Users/draible1/Documents/Canopy/python_notebooks/.git/\n",
      "On branch master\n",
      "\n",
      "Initial commit\n",
      "\n",
      "Untracked files:\n",
      "  (use \"git add <file>...\" to include in what will be committed)\n",
      "\n",
      "\t\u001b[31mREADME.md\u001b[m\n",
      "\t\u001b[31mexercise_answers/\u001b[m\n",
      "\t\u001b[31mexercises/\u001b[m\n",
      "\t\u001b[31mlessons/\u001b[m\n",
      "\n",
      "nothing added to commit but untracked files present (use \"git add\" to track)\n"
     ]
    }
   ],
   "source": [
    "!git init\n",
    "!git status"
   ]
  },
  {
   "cell_type": "code",
   "execution_count": 3,
   "metadata": {
    "collapsed": false
   },
   "outputs": [
    {
     "name": "stdout",
     "output_type": "stream",
     "text": [
      "Writing README.md\n"
     ]
    }
   ],
   "source": [
    "%%file README.md\n",
    "\n",
    "Notebooks to teach python"
   ]
  },
  {
   "cell_type": "code",
   "execution_count": 4,
   "metadata": {
    "collapsed": false
   },
   "outputs": [
    {
     "name": "stdout",
     "output_type": "stream",
     "text": [
      "On branch master\r\n",
      "\r\n",
      "Initial commit\r\n",
      "\r\n",
      "Untracked files:\r\n",
      "  (use \"git add <file>...\" to include in what will be committed)\r\n",
      "\r\n",
      "\t\u001b[31mREADME.md\u001b[m\r\n",
      "\r\n",
      "nothing added to commit but untracked files present (use \"git add\" to track)\r\n"
     ]
    }
   ],
   "source": [
    "!git status"
   ]
  },
  {
   "cell_type": "code",
   "execution_count": 5,
   "metadata": {
    "collapsed": false
   },
   "outputs": [
    {
     "name": "stdout",
     "output_type": "stream",
     "text": [
      "Reinitialized existing Git repository in /Users/draible1/Documents/Canopy/python_notebooks/.git/\n",
      "[master (root-commit) c01e652] first commit\n",
      " 1 file changed, 2 insertions(+)\n",
      " create mode 100644 README.md\n",
      "Branch master set up to track remote branch master from origin.\n"
     ]
    },
    {
     "name": "stderr",
     "output_type": "stream",
     "text": [
      "Warning: Permanently added the RSA host key for IP address '192.30.252.131' to the list of known hosts.\r\n",
      "To git@github.com:daniorerio/python-notebooks.git\n",
      " * [new branch]      master -> master\n"
     ]
    }
   ],
   "source": [
    "%%bash\n",
    "git init\n",
    "git add README.md\n",
    "git commit -m \"first commit\"\n",
    "git remote add origin git@github.com:daniorerio/python-notebooks.git\n",
    "git push -u origin master"
   ]
  },
  {
   "cell_type": "code",
   "execution_count": 4,
   "metadata": {
    "collapsed": false
   },
   "outputs": [],
   "source": [
    "!git add exercises/*"
   ]
  },
  {
   "cell_type": "code",
   "execution_count": 5,
   "metadata": {
    "collapsed": false
   },
   "outputs": [
    {
     "name": "stdout",
     "output_type": "stream",
     "text": [
      "On branch master\r\n",
      "Your branch is up-to-date with 'origin/master'.\r\n",
      "Changes to be committed:\r\n",
      "  (use \"git reset HEAD <file>...\" to unstage)\r\n",
      "\r\n",
      "\t\u001b[32mnew file:   exercises/0. Unix and Shell.ipynb\u001b[m\r\n",
      "\r\n"
     ]
    }
   ],
   "source": [
    "!git status"
   ]
  },
  {
   "cell_type": "code",
   "execution_count": 6,
   "metadata": {
    "collapsed": false
   },
   "outputs": [
    {
     "name": "stdout",
     "output_type": "stream",
     "text": [
      "[master 0e2954f] Added Unix Shell lesson\r\n",
      " 1 file changed, 421 insertions(+)\r\n",
      " create mode 100644 exercises/0. Unix and Shell.ipynb\r\n"
     ]
    }
   ],
   "source": [
    "!git commit -m \"Added Unix Shell lesson\" "
   ]
  },
  {
   "cell_type": "code",
   "execution_count": 7,
   "metadata": {
    "collapsed": false
   },
   "outputs": [
    {
     "name": "stdout",
     "output_type": "stream",
     "text": [
      "Counting objects: 4, done.\n",
      "Delta compression using up to 8 threads.\n",
      "Compressing objects: 100% (4/4), done.\n",
      "Writing objects: 100% (4/4), 2.04 KiB | 0 bytes/s, done.\n",
      "Total 4 (delta 0), reused 0 (delta 0)\n",
      "To git@github.com:daniorerio/python-notebooks.git\n",
      "   f6a1390..0e2954f  master -> master\n",
      "Branch master set up to track remote branch master from origin.\n"
     ]
    }
   ],
   "source": [
    "!git push -u origin master"
   ]
  },
  {
   "cell_type": "code",
   "execution_count": 29,
   "metadata": {
    "collapsed": false
   },
   "outputs": [
    {
     "name": "stdout",
     "output_type": "stream",
     "text": [
      "/Users/draible1/Documents/Canopy/python_notebooks\n",
      "On branch master\n",
      "Your branch is up-to-date with 'origin/master'.\n",
      "Changes to be committed:\n",
      "  (use \"git reset HEAD <file>...\" to unstage)\n",
      "\n",
      "\t\u001b[32mnew file:   exercises/0. Unix and Shell.ipynb\u001b[m\n",
      "\n",
      "Untracked files:\n",
      "  (use \"git add <file>...\" to include in what will be committed)\n",
      "\n",
      "\t\u001b[31mexercises/.ipynb_checkpoints/\u001b[m\n",
      "\n"
     ]
    }
   ],
   "source": [
    "%cd ~/Documents/Canopy/python_notebooks\n",
    "!git add exercises/*\n",
    "!git add lessons/*\n",
    "!git add exercise_answers/* \n",
    "!git status"
   ]
  },
  {
   "cell_type": "code",
   "execution_count": 30,
   "metadata": {
    "collapsed": false
   },
   "outputs": [
    {
     "name": "stdout",
     "output_type": "stream",
     "text": [
      "[master e4a910e] Adding files\r\n",
      " 1 file changed, 421 insertions(+)\r\n",
      " create mode 100644 exercises/0. Unix and Shell.ipynb\r\n"
     ]
    }
   ],
   "source": [
    "!git commit -m \"Adding files\""
   ]
  },
  {
   "cell_type": "code",
   "execution_count": 31,
   "metadata": {
    "collapsed": false
   },
   "outputs": [
    {
     "name": "stdout",
     "output_type": "stream",
     "text": [
      "Counting objects: 4, done.\n",
      "Delta compression using up to 8 threads.\n",
      "Compressing objects: 100% (4/4), done.\n",
      "Writing objects: 100% (4/4), 2.02 KiB | 0 bytes/s, done.\n",
      "Total 4 (delta 1), reused 0 (delta 0)\n",
      "To git@github.com:daniorerio/python-notebooks.git\n",
      "   bce18a4..e4a910e  master -> master\n",
      "Branch master set up to track remote branch master from origin.\n"
     ]
    }
   ],
   "source": [
    "!git push -u origin master"
   ]
  },
  {
   "cell_type": "code",
   "execution_count": 22,
   "metadata": {
    "collapsed": false
   },
   "outputs": [
    {
     "name": "stdout",
     "output_type": "stream",
     "text": [
      "remote: Counting objects: 9, done.\u001b[K\n",
      "remote: Compressing objects: 100% (9/9), done.\u001b[K\n",
      "remote: Total 9 (delta 2), reused 2 (delta 0), pack-reused 0\u001b[K\n",
      "Unpacking objects: 100% (9/9), done.\n",
      "From github.com:daniorerio/python-notebooks\n",
      "   4696745..6937e6b  master     -> origin/master\n",
      "Updating 4696745..6937e6b\n",
      "Fast-forward\n",
      " exercises/0. Unix and Shell.ipynb         | 429 \u001b[31m------------------------------\u001b[m\n",
      " exercises/0.Introduction References.ipynb |  95 \u001b[31m-------\u001b[m\n",
      " lessons/Week 1 Exercises.ipynb            | 111 \u001b[31m--------\u001b[m\n",
      " 3 files changed, 635 deletions(-)\n",
      " delete mode 100644 exercises/0. Unix and Shell.ipynb\n",
      " delete mode 100644 exercises/0.Introduction References.ipynb\n",
      " delete mode 100644 lessons/Week 1 Exercises.ipynb\n"
     ]
    }
   ],
   "source": [
    "!git pull origin"
   ]
  },
  {
   "cell_type": "code",
   "execution_count": 23,
   "metadata": {
    "collapsed": false
   },
   "outputs": [
    {
     "name": "stdout",
     "output_type": "stream",
     "text": [
      "Branch master set up to track remote branch master from origin.\r\n",
      "Everything up-to-date\r\n"
     ]
    }
   ],
   "source": [
    "!git push -u origin master"
   ]
  },
  {
   "cell_type": "code",
   "execution_count": 9,
   "metadata": {
    "collapsed": false
   },
   "outputs": [
    {
     "name": "stdout",
     "output_type": "stream",
     "text": [
      "/Users/draible1/Documents/Canopy/python_notebooks\n"
     ]
    }
   ],
   "source": [
    "%cd ~/Documents/Canopy/python_notebooks"
   ]
  },
  {
   "cell_type": "code",
   "execution_count": 10,
   "metadata": {
    "collapsed": false
   },
   "outputs": [
    {
     "name": "stdout",
     "output_type": "stream",
     "text": [
      "Reinitialized existing Git repository in /Users/draible1/Documents/Canopy/python_notebooks/.git/\n",
      "On branch master\n",
      "Your branch is up-to-date with 'origin/master'.\n",
      "Changes not staged for commit:\n",
      "  (use \"git add/rm <file>...\" to update what will be committed)\n",
      "  (use \"git checkout -- <file>...\" to discard changes in working directory)\n",
      "\n",
      "\t\u001b[31mdeleted:    exercises/Week 5 Exercises Answers.ipynb\u001b[m\n",
      "\n",
      "Untracked files:\n",
      "  (use \"git add <file>...\" to include in what will be committed)\n",
      "\n",
      "\t\u001b[31mexercises/.ipynb_checkpoints/\u001b[m\n",
      "\t\u001b[31mlessons/.ipynb_checkpoints/\u001b[m\n",
      "\n",
      "no changes added to commit (use \"git add\" and/or \"git commit -a\")\n"
     ]
    }
   ],
   "source": [
    "!git init\n",
    "!git status"
   ]
  },
  {
   "cell_type": "code",
   "execution_count": 3,
   "metadata": {
    "collapsed": false
   },
   "outputs": [
    {
     "name": "stdout",
     "output_type": "stream",
     "text": [
      "On branch master\r\n",
      "Your branch is up-to-date with 'origin/master'.\r\n",
      "Changes to be committed:\r\n",
      "  (use \"git reset HEAD <file>...\" to unstage)\r\n",
      "\r\n",
      "\t\u001b[32mnew file:   exercises/Week 5 Exercises Answers.ipynb\u001b[m\r\n",
      "\t\u001b[32mmodified:   lessons/0. Unix and Shell.ipynb\u001b[m\r\n",
      "\r\n",
      "Untracked files:\r\n",
      "  (use \"git add <file>...\" to include in what will be committed)\r\n",
      "\r\n",
      "\t\u001b[31mexercises/.ipynb_checkpoints/\u001b[m\r\n",
      "\t\u001b[31mlessons/.ipynb_checkpoints/\u001b[m\r\n",
      "\r\n"
     ]
    }
   ],
   "source": [
    "!git add README.md\n",
    "!git add exercises/*\n",
    "!git add lessons/*\n",
    "!git status"
   ]
  },
  {
   "cell_type": "code",
   "execution_count": 4,
   "metadata": {
    "collapsed": false
   },
   "outputs": [
    {
     "name": "stdout",
     "output_type": "stream",
     "text": [
      "[master a51e3e3] Adding files\r\n",
      " 2 files changed, 514 insertions(+), 1 deletion(-)\r\n",
      " create mode 100644 exercises/Week 5 Exercises Answers.ipynb\r\n"
     ]
    }
   ],
   "source": [
    "!git commit -m \"Adding files\""
   ]
  },
  {
   "cell_type": "code",
   "execution_count": 15,
   "metadata": {
    "collapsed": false
   },
   "outputs": [
    {
     "name": "stdout",
     "output_type": "stream",
     "text": [
      "Branch master set up to track remote branch master from origin.\n"
     ]
    },
    {
     "name": "stderr",
     "output_type": "stream",
     "text": [
      "fatal: remote origin already exists.\n",
      "To git@github.com:daniorerio/python_notebooks.git\n",
      "   d82b2cb..d170e04  master -> master\n"
     ]
    }
   ],
   "source": [
    "%%bash\n",
    "git remote add origin git@github.com:daniorerio/python_notebooks.git\n",
    "git push -u origin master"
   ]
  },
  {
   "cell_type": "code",
   "execution_count": 5,
   "metadata": {
    "collapsed": false
   },
   "outputs": [
    {
     "name": "stdout",
     "output_type": "stream",
     "text": [
      "Counting objects: 6, done.\n",
      "Delta compression using up to 8 threads.\n",
      "Compressing objects: 100% (6/6), done.\n",
      "Writing objects: 100% (6/6), 3.57 KiB | 0 bytes/s, done.\n",
      "Total 6 (delta 3), reused 0 (delta 0)\n",
      "To git@github.com:daniorerio/python_notebooks.git\n",
      "   6191b7c..a51e3e3  master -> master\n",
      "Branch master set up to track remote branch master from origin.\n"
     ]
    }
   ],
   "source": [
    "!git push -u origin master"
   ]
  },
  {
   "cell_type": "code",
   "execution_count": 12,
   "metadata": {
    "collapsed": false
   },
   "outputs": [
    {
     "name": "stdout",
     "output_type": "stream",
     "text": [
      "/Users/draible1/Documents/Canopy/python_notebooks\n",
      "[master 2512bd8] Updating files\n",
      " 1 file changed, 496 insertions(+)\n",
      " create mode 100644 exercises/5. Exercises Answers.ipynb\n",
      "Counting objects: 3, done.\n",
      "Delta compression using up to 8 threads.\n",
      "Compressing objects: 100% (3/3), done.\n",
      "Writing objects: 100% (3/3), 345 bytes | 0 bytes/s, done.\n",
      "Total 3 (delta 1), reused 0 (delta 0)\n",
      "To git@github.com:daniorerio/python_notebooks.git\n",
      "   a51e3e3..2512bd8  master -> master\n",
      "Branch master set up to track remote branch master from origin.\n"
     ]
    }
   ],
   "source": [
    "%cd ~/Documents/Canopy/python_notebooks\n",
    "!git add README.md\n",
    "!git add exercises/*\n",
    "!git add lessons/*\n",
    "!git commit -m \"Updating files\"\n",
    "!git push -u origin master"
   ]
  },
  {
   "cell_type": "code",
   "execution_count": 19,
   "metadata": {
    "collapsed": false
   },
   "outputs": [
    {
     "name": "stdout",
     "output_type": "stream",
     "text": [
      "/Users/draible1/Documents/Canopy/python_notebooks\n"
     ]
    }
   ],
   "source": [
    "%cd ~/Documents/Canopy/python_notebooks"
   ]
  },
  {
   "cell_type": "code",
   "execution_count": 20,
   "metadata": {
    "collapsed": false
   },
   "outputs": [],
   "source": [
    "%load README.md"
   ]
  },
  {
   "cell_type": "code",
   "execution_count": null,
   "metadata": {
    "collapsed": false
   },
   "outputs": [],
   "source": [
    "\n",
    "Notebooks to teach python"
   ]
  },
  {
   "cell_type": "code",
   "execution_count": 6,
   "metadata": {
    "collapsed": false
   },
   "outputs": [
    {
     "name": "stdout",
     "output_type": "stream",
     "text": [
      "README.md \u001b[34mexercises\u001b[m\u001b[m \u001b[34mlessons\u001b[m\u001b[m\r\n"
     ]
    }
   ],
   "source": [
    "!ls"
   ]
  },
  {
   "cell_type": "code",
   "execution_count": 7,
   "metadata": {
    "collapsed": false
   },
   "outputs": [
    {
     "name": "stdout",
     "output_type": "stream",
     "text": [
      "/Users/draible1/Documents/Canopy/python_notebooks/exercises\n"
     ]
    }
   ],
   "source": [
    "%cd exercises"
   ]
  },
  {
   "cell_type": "code",
   "execution_count": 8,
   "metadata": {
    "collapsed": false
   },
   "outputs": [
    {
     "name": "stdout",
     "output_type": "stream",
     "text": [
      "1. Exercises Answers.ipynb     3. Exercises.ipynb\r\n",
      "1. Exercises.ipynb             4. Exercise Answers.ipynb\r\n",
      "2a. Exercises answers.ipynb    4. Exercises.ipynb\r\n",
      "2a. Exercises.ipynb            5. Exercises.ipynb\r\n",
      "2b. Exercises Answers.ipynb    Week 5 Exercises Answers.ipynb\r\n",
      "2b. Exercises.ipynb            \u001b[34mdata\u001b[m\u001b[m\r\n",
      "3. Exercises Answers.ipynb\r\n"
     ]
    }
   ],
   "source": [
    "!ls"
   ]
  },
  {
   "cell_type": "markdown",
   "metadata": {},
   "source": [
    "To update directory, including removing files:"
   ]
  },
  {
   "cell_type": "code",
   "execution_count": 2,
   "metadata": {
    "collapsed": false
   },
   "outputs": [
    {
     "name": "stdout",
     "output_type": "stream",
     "text": [
      "/Users/draible1/Documents/Canopy/python_notebooks\n",
      "[master ae14eaf] adding, updating, deleting files\n",
      " 1 file changed, 153 insertions(+)\n",
      " create mode 100644 lessons/0. Updating notebooks with Git.ipynb\n",
      "Counting objects: 4, done.\n",
      "Delta compression using up to 8 threads.\n",
      "Compressing objects: 100% (4/4), done.\n",
      "Writing objects: 100% (4/4), 1.20 KiB | 0 bytes/s, done.\n",
      "Total 4 (delta 2), reused 0 (delta 0)\n",
      "To git@github.com:daniorerio/python_notebooks.git\n",
      "   ec9f028..ae14eaf  master -> master\n",
      "Branch master set up to track remote branch master from origin.\n"
     ]
    }
   ],
   "source": [
    "%cd ~/Documents/Canopy/python_notebooks\n",
    "!git add . -A \n",
    "!git commit -m \"adding, updating, deleting files\"\n",
    "!git push -u origin master"
   ]
  },
  {
   "cell_type": "code",
   "execution_count": 4,
   "metadata": {
    "collapsed": false
   },
   "outputs": [
    {
     "name": "stdout",
     "output_type": "stream",
     "text": [
      "/Users/draible1/Documents/Canopy/python_notebooks\n",
      "[master 009813a] updating, deleting files\n",
      " 1 file changed, 5 insertions(+), 5 deletions(-)\n",
      "Counting objects: 4, done.\n",
      "Delta compression using up to 8 threads.\n",
      "Compressing objects: 100% (4/4), done.\n",
      "Writing objects: 100% (4/4), 443 bytes | 0 bytes/s, done.\n",
      "Total 4 (delta 3), reused 0 (delta 0)\n",
      "To git@github.com:daniorerio/python_notebooks.git\n",
      "   ae14eaf..009813a  master -> master\n",
      "Branch master set up to track remote branch master from origin.\n"
     ]
    }
   ],
   "source": [
    "%cd ~/Documents/Canopy/python_notebooks\n",
    "!git commit -a -m \"updating, deleting files\"\n",
    "!git push -u origin master"
   ]
  },
  {
   "cell_type": "code",
   "execution_count": 1,
   "metadata": {
    "collapsed": false
   },
   "outputs": [
    {
     "name": "stdout",
     "output_type": "stream",
     "text": [
      "git version 2.6.0\r\n"
     ]
    }
   ],
   "source": [
    "!git --version\n"
   ]
  },
  {
   "cell_type": "code",
   "execution_count": null,
   "metadata": {
    "collapsed": false
   },
   "outputs": [],
   "source": [
    "%cd ~/python_class\n",
    "!git commit -a -m \"updating, deleting files\"\n",
    "!git push -u origin master"
   ]
  },
  {
   "cell_type": "code",
   "execution_count": null,
   "metadata": {
    "collapsed": true
   },
   "outputs": [],
   "source": []
  }
 ],
 "metadata": {
  "kernelspec": {
   "display_name": "Python 2",
   "language": "python",
   "name": "python2"
  },
  "language_info": {
   "codemirror_mode": {
    "name": "ipython",
    "version": 2
   },
   "file_extension": ".py",
   "mimetype": "text/x-python",
   "name": "python",
   "nbconvert_exporter": "python",
   "pygments_lexer": "ipython2",
   "version": "2.7.10"
  }
 },
 "nbformat": 4,
 "nbformat_minor": 0
}
